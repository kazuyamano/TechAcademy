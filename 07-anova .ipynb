{
  "cells": [
    {
      "metadata": {},
      "cell_type": "markdown",
      "source": "# 3.1一元分散分析"
    },
    {
      "metadata": {},
      "cell_type": "raw",
      "source": "飼料A、飼料B、飼料Cで飼育したハマチ1歳魚の体長と体高のデータが入っています。それぞれ30匹ずつ計測されています。一元配置分散分析で、飼料の違いにより体長、体高に差があるかを調べてみましょう。帰無仮説・対立仮説は下記の通りです。有意水準は5％とします。\n\n帰無仮説（H0）: 水準間で平均値に差がない\n対立仮説（H1）: 水準間で平均値に差がある"
    },
    {
      "metadata": {
        "trusted": true
      },
      "cell_type": "code",
      "source": "import pandas as pd\nimport matplotlib as mlp\nimport matplotlib.pyplot as plt\nimport numpy as np\nimport scipy as sp\nimport seaborn as sns\nimport statsmodels.formula.api as smf\nimport statsmodels.api as sm\n\n%matplotlib inline\nsns.set()",
      "execution_count": 34,
      "outputs": []
    },
    {
      "metadata": {
        "trusted": true
      },
      "cell_type": "code",
      "source": "data1 = pd.read_csv('Lesson7-1.csv')\ndata1",
      "execution_count": 35,
      "outputs": [
        {
          "output_type": "execute_result",
          "execution_count": 35,
          "data": {
            "text/html": "<div>\n<style scoped>\n    .dataframe tbody tr th:only-of-type {\n        vertical-align: middle;\n    }\n\n    .dataframe tbody tr th {\n        vertical-align: top;\n    }\n\n    .dataframe thead th {\n        text-align: right;\n    }\n</style>\n<table border=\"1\" class=\"dataframe\">\n  <thead>\n    <tr style=\"text-align: right;\">\n      <th></th>\n      <th>Body_Length</th>\n      <th>Body_Height</th>\n      <th>Feed</th>\n    </tr>\n  </thead>\n  <tbody>\n    <tr>\n      <th>0</th>\n      <td>34.873</td>\n      <td>8.597</td>\n      <td>A</td>\n    </tr>\n    <tr>\n      <th>1</th>\n      <td>28.165</td>\n      <td>5.555</td>\n      <td>A</td>\n    </tr>\n    <tr>\n      <th>2</th>\n      <td>28.415</td>\n      <td>3.874</td>\n      <td>A</td>\n    </tr>\n    <tr>\n      <th>3</th>\n      <td>26.781</td>\n      <td>3.084</td>\n      <td>A</td>\n    </tr>\n    <tr>\n      <th>4</th>\n      <td>32.596</td>\n      <td>6.270</td>\n      <td>A</td>\n    </tr>\n    <tr>\n      <th>5</th>\n      <td>23.095</td>\n      <td>5.232</td>\n      <td>A</td>\n    </tr>\n    <tr>\n      <th>6</th>\n      <td>35.234</td>\n      <td>3.968</td>\n      <td>A</td>\n    </tr>\n    <tr>\n      <th>7</th>\n      <td>27.716</td>\n      <td>5.131</td>\n      <td>A</td>\n    </tr>\n    <tr>\n      <th>8</th>\n      <td>30.957</td>\n      <td>3.140</td>\n      <td>A</td>\n    </tr>\n    <tr>\n      <th>9</th>\n      <td>29.252</td>\n      <td>7.094</td>\n      <td>A</td>\n    </tr>\n    <tr>\n      <th>10</th>\n      <td>34.386</td>\n      <td>3.659</td>\n      <td>A</td>\n    </tr>\n    <tr>\n      <th>11</th>\n      <td>23.820</td>\n      <td>8.674</td>\n      <td>A</td>\n    </tr>\n    <tr>\n      <th>12</th>\n      <td>29.033</td>\n      <td>6.210</td>\n      <td>A</td>\n    </tr>\n    <tr>\n      <th>13</th>\n      <td>28.848</td>\n      <td>6.781</td>\n      <td>A</td>\n    </tr>\n    <tr>\n      <th>14</th>\n      <td>33.401</td>\n      <td>1.715</td>\n      <td>A</td>\n    </tr>\n    <tr>\n      <th>15</th>\n      <td>26.700</td>\n      <td>5.508</td>\n      <td>A</td>\n    </tr>\n    <tr>\n      <th>16</th>\n      <td>29.483</td>\n      <td>7.222</td>\n      <td>A</td>\n    </tr>\n    <tr>\n      <th>17</th>\n      <td>27.366</td>\n      <td>2.139</td>\n      <td>A</td>\n    </tr>\n    <tr>\n      <th>18</th>\n      <td>30.127</td>\n      <td>4.201</td>\n      <td>A</td>\n    </tr>\n    <tr>\n      <th>19</th>\n      <td>31.748</td>\n      <td>5.098</td>\n      <td>A</td>\n    </tr>\n    <tr>\n      <th>20</th>\n      <td>26.698</td>\n      <td>0.881</td>\n      <td>A</td>\n    </tr>\n    <tr>\n      <th>21</th>\n      <td>33.434</td>\n      <td>5.945</td>\n      <td>A</td>\n    </tr>\n    <tr>\n      <th>22</th>\n      <td>32.705</td>\n      <td>7.538</td>\n      <td>A</td>\n    </tr>\n    <tr>\n      <th>23</th>\n      <td>31.507</td>\n      <td>2.421</td>\n      <td>A</td>\n    </tr>\n    <tr>\n      <th>24</th>\n      <td>32.703</td>\n      <td>6.052</td>\n      <td>A</td>\n    </tr>\n    <tr>\n      <th>25</th>\n      <td>27.949</td>\n      <td>1.063</td>\n      <td>A</td>\n    </tr>\n    <tr>\n      <th>26</th>\n      <td>29.631</td>\n      <td>4.884</td>\n      <td>A</td>\n    </tr>\n    <tr>\n      <th>27</th>\n      <td>27.193</td>\n      <td>0.153</td>\n      <td>A</td>\n    </tr>\n    <tr>\n      <th>28</th>\n      <td>29.196</td>\n      <td>8.364</td>\n      <td>A</td>\n    </tr>\n    <tr>\n      <th>29</th>\n      <td>31.591</td>\n      <td>6.227</td>\n      <td>A</td>\n    </tr>\n    <tr>\n      <th>...</th>\n      <td>...</td>\n      <td>...</td>\n      <td>...</td>\n    </tr>\n    <tr>\n      <th>60</th>\n      <td>32.737</td>\n      <td>4.770</td>\n      <td>C</td>\n    </tr>\n    <tr>\n      <th>61</th>\n      <td>38.759</td>\n      <td>-1.605</td>\n      <td>C</td>\n    </tr>\n    <tr>\n      <th>62</th>\n      <td>36.539</td>\n      <td>8.816</td>\n      <td>C</td>\n    </tr>\n    <tr>\n      <th>63</th>\n      <td>34.106</td>\n      <td>12.261</td>\n      <td>C</td>\n    </tr>\n    <tr>\n      <th>64</th>\n      <td>36.466</td>\n      <td>7.024</td>\n      <td>C</td>\n    </tr>\n    <tr>\n      <th>65</th>\n      <td>34.773</td>\n      <td>5.400</td>\n      <td>C</td>\n    </tr>\n    <tr>\n      <th>66</th>\n      <td>38.395</td>\n      <td>5.291</td>\n      <td>C</td>\n    </tr>\n    <tr>\n      <th>67</th>\n      <td>39.559</td>\n      <td>5.343</td>\n      <td>C</td>\n    </tr>\n    <tr>\n      <th>68</th>\n      <td>41.557</td>\n      <td>5.752</td>\n      <td>C</td>\n    </tr>\n    <tr>\n      <th>69</th>\n      <td>30.811</td>\n      <td>2.334</td>\n      <td>C</td>\n    </tr>\n    <tr>\n      <th>70</th>\n      <td>30.668</td>\n      <td>4.149</td>\n      <td>C</td>\n    </tr>\n    <tr>\n      <th>71</th>\n      <td>33.487</td>\n      <td>2.709</td>\n      <td>C</td>\n    </tr>\n    <tr>\n      <th>72</th>\n      <td>35.480</td>\n      <td>6.446</td>\n      <td>C</td>\n    </tr>\n    <tr>\n      <th>73</th>\n      <td>37.629</td>\n      <td>4.810</td>\n      <td>C</td>\n    </tr>\n    <tr>\n      <th>74</th>\n      <td>35.947</td>\n      <td>7.186</td>\n      <td>C</td>\n    </tr>\n    <tr>\n      <th>75</th>\n      <td>28.933</td>\n      <td>5.176</td>\n      <td>C</td>\n    </tr>\n    <tr>\n      <th>76</th>\n      <td>34.081</td>\n      <td>8.659</td>\n      <td>C</td>\n    </tr>\n    <tr>\n      <th>77</th>\n      <td>37.484</td>\n      <td>6.341</td>\n      <td>C</td>\n    </tr>\n    <tr>\n      <th>78</th>\n      <td>35.690</td>\n      <td>12.272</td>\n      <td>C</td>\n    </tr>\n    <tr>\n      <th>79</th>\n      <td>37.286</td>\n      <td>0.011</td>\n      <td>C</td>\n    </tr>\n    <tr>\n      <th>80</th>\n      <td>34.333</td>\n      <td>3.759</td>\n      <td>C</td>\n    </tr>\n    <tr>\n      <th>81</th>\n      <td>34.398</td>\n      <td>8.404</td>\n      <td>C</td>\n    </tr>\n    <tr>\n      <th>82</th>\n      <td>35.560</td>\n      <td>13.285</td>\n      <td>C</td>\n    </tr>\n    <tr>\n      <th>83</th>\n      <td>36.230</td>\n      <td>4.954</td>\n      <td>C</td>\n    </tr>\n    <tr>\n      <th>84</th>\n      <td>35.595</td>\n      <td>5.831</td>\n      <td>C</td>\n    </tr>\n    <tr>\n      <th>85</th>\n      <td>35.357</td>\n      <td>5.021</td>\n      <td>C</td>\n    </tr>\n    <tr>\n      <th>86</th>\n      <td>32.988</td>\n      <td>9.694</td>\n      <td>C</td>\n    </tr>\n    <tr>\n      <th>87</th>\n      <td>36.133</td>\n      <td>4.838</td>\n      <td>C</td>\n    </tr>\n    <tr>\n      <th>88</th>\n      <td>35.365</td>\n      <td>7.740</td>\n      <td>C</td>\n    </tr>\n    <tr>\n      <th>89</th>\n      <td>38.388</td>\n      <td>4.741</td>\n      <td>C</td>\n    </tr>\n  </tbody>\n</table>\n<p>90 rows × 3 columns</p>\n</div>",
            "text/plain": "    Body_Length  Body_Height Feed\n0        34.873        8.597    A\n1        28.165        5.555    A\n2        28.415        3.874    A\n3        26.781        3.084    A\n4        32.596        6.270    A\n5        23.095        5.232    A\n6        35.234        3.968    A\n7        27.716        5.131    A\n8        30.957        3.140    A\n9        29.252        7.094    A\n10       34.386        3.659    A\n11       23.820        8.674    A\n12       29.033        6.210    A\n13       28.848        6.781    A\n14       33.401        1.715    A\n15       26.700        5.508    A\n16       29.483        7.222    A\n17       27.366        2.139    A\n18       30.127        4.201    A\n19       31.748        5.098    A\n20       26.698        0.881    A\n21       33.434        5.945    A\n22       32.705        7.538    A\n23       31.507        2.421    A\n24       32.703        6.052    A\n25       27.949        1.063    A\n26       29.631        4.884    A\n27       27.193        0.153    A\n28       29.196        8.364    A\n29       31.591        6.227    A\n..          ...          ...  ...\n60       32.737        4.770    C\n61       38.759       -1.605    C\n62       36.539        8.816    C\n63       34.106       12.261    C\n64       36.466        7.024    C\n65       34.773        5.400    C\n66       38.395        5.291    C\n67       39.559        5.343    C\n68       41.557        5.752    C\n69       30.811        2.334    C\n70       30.668        4.149    C\n71       33.487        2.709    C\n72       35.480        6.446    C\n73       37.629        4.810    C\n74       35.947        7.186    C\n75       28.933        5.176    C\n76       34.081        8.659    C\n77       37.484        6.341    C\n78       35.690       12.272    C\n79       37.286        0.011    C\n80       34.333        3.759    C\n81       34.398        8.404    C\n82       35.560       13.285    C\n83       36.230        4.954    C\n84       35.595        5.831    C\n85       35.357        5.021    C\n86       32.988        9.694    C\n87       36.133        4.838    C\n88       35.365        7.740    C\n89       38.388        4.741    C\n\n[90 rows x 3 columns]"
          },
          "metadata": {}
        }
      ]
    },
    {
      "metadata": {},
      "cell_type": "raw",
      "source": "体長と体高について箱ひげ図を描いてみましょう。下記のようにsubplotを用いるとグラフを2つ並べることができます。"
    },
    {
      "metadata": {
        "trusted": true
      },
      "cell_type": "code",
      "source": "f, axes = plt.subplots(1, 2, figsize = (10,5))\n# plt.subplots()は、FigureオブジェクトとAxesオブジェクトを含むタプルを返す関数\n# fはFigure(図全体の情報。10インチ5インチ)をタプルとして格納\n# axesはAxes(座標軸の情報。タテ1行ヨコ2列)をタプルとして格納\n# Axesオブジェクト(図の中の座標軸を表す)は、必ず親のFigureオブジェクトをを持つ\n\nsns.boxplot(x='Feed', y='Body_Length', data=data1, ax=axes[0])\nsns.boxplot(x='Feed', y='Body_Height', data=data1, ax=axes[1])\n\n# ax=axes[0]はグラフを置く場所（座標軸）を指定。\n# 例えばplt.subplots(2,2)とすれば、左上：axes[0,0]、右下：axes[1,1]",
      "execution_count": 36,
      "outputs": [
        {
          "output_type": "execute_result",
          "execution_count": 36,
          "data": {
            "text/plain": "<matplotlib.axes._subplots.AxesSubplot at 0x7f8f0fd541d0>"
          },
          "metadata": {}
        },
        {
          "output_type": "display_data",
          "data": {
            "image/png": "[encoded data removed]",
            "text/plain": "<Figure size 720x360 with 2 Axes>"
          },
          "metadata": {}
        }
      ]
    },
    {
      "metadata": {
        "trusted": true
      },
      "cell_type": "code",
      "source": "# まずは飼料ごとに体長の平均を出します。\nme_Feed_A = sp.mean(data1.query('Feed == \"A\"')['Body_Length'])\nme_Feed_B = sp.mean(data1.query('Feed == \"B\"')['Body_Length'])\nme_Feed_C = sp.mean(data1.query('Feed == \"C\"')['Body_Length'])\nprint('Feed A:', me_Feed_A)\nprint('Feed B:', me_Feed_B)\nprint('Feed C:', me_Feed_C)",
      "execution_count": 37,
      "outputs": [
        {
          "output_type": "stream",
          "text": "Feed A: 29.8201\nFeed B: 40.2296\nFeed C: 35.49113333333334\n",
          "name": "stdout"
        }
      ]
    },
    {
      "metadata": {},
      "cell_type": "raw",
      "source": "ハマチの体長は飼料Aを与えた場合に約29.820cm、飼料Bを与えた場合には約40.230cm、飼料Cを与えた場合には約35.491cmになると考えることができます。この飼料による効果を群間変動といいます。"
    },
    {
      "metadata": {
        "trusted": true
      },
      "cell_type": "code",
      "source": "# 次に体長データ全体の平均を計算します。\nmu_all = sp.mean(data1['Body_Length'])\nmu_all",
      "execution_count": 38,
      "outputs": [
        {
          "output_type": "execute_result",
          "execution_count": 38,
          "data": {
            "text/plain": "35.18027777777779"
          },
          "metadata": {}
        }
      ]
    },
    {
      "metadata": {},
      "cell_type": "markdown",
      "source": "# 効果の分散の大きさを計算"
    },
    {
      "metadata": {
        "trusted": true
      },
      "cell_type": "code",
      "source": "# 各群平均が30個ずつ並んだ90個のndarrayを生成\neffect = [29.820]*30 + [40.230]*30 + [35.491]*30\neffect = np.array(effect)\n\n# 効果 (＝各群平均の、データ全体平均からのズレ)\neffect - mu_all",
      "execution_count": 39,
      "outputs": [
        {
          "output_type": "execute_result",
          "execution_count": 39,
          "data": {
            "text/plain": "array([-5.36027778, -5.36027778, -5.36027778, -5.36027778, -5.36027778,\n       -5.36027778, -5.36027778, -5.36027778, -5.36027778, -5.36027778,\n       -5.36027778, -5.36027778, -5.36027778, -5.36027778, -5.36027778,\n       -5.36027778, -5.36027778, -5.36027778, -5.36027778, -5.36027778,\n       -5.36027778, -5.36027778, -5.36027778, -5.36027778, -5.36027778,\n       -5.36027778, -5.36027778, -5.36027778, -5.36027778, -5.36027778,\n        5.04972222,  5.04972222,  5.04972222,  5.04972222,  5.04972222,\n        5.04972222,  5.04972222,  5.04972222,  5.04972222,  5.04972222,\n        5.04972222,  5.04972222,  5.04972222,  5.04972222,  5.04972222,\n        5.04972222,  5.04972222,  5.04972222,  5.04972222,  5.04972222,\n        5.04972222,  5.04972222,  5.04972222,  5.04972222,  5.04972222,\n        5.04972222,  5.04972222,  5.04972222,  5.04972222,  5.04972222,\n        0.31072222,  0.31072222,  0.31072222,  0.31072222,  0.31072222,\n        0.31072222,  0.31072222,  0.31072222,  0.31072222,  0.31072222,\n        0.31072222,  0.31072222,  0.31072222,  0.31072222,  0.31072222,\n        0.31072222,  0.31072222,  0.31072222,  0.31072222,  0.31072222,\n        0.31072222,  0.31072222,  0.31072222,  0.31072222,  0.31072222,\n        0.31072222,  0.31072222,  0.31072222,  0.31072222,  0.31072222])"
          },
          "metadata": {}
        }
      ]
    },
    {
      "metadata": {
        "trusted": true
      },
      "cell_type": "code",
      "source": "# 効果の平方和(群間平方和)\nsquares_feed = sp.sum((effect - mu_all)**2)\nsquares_feed",
      "execution_count": 40,
      "outputs": [
        {
          "output_type": "execute_result",
          "execution_count": 40,
          "data": {
            "text/plain": "1629.8646202777766"
          },
          "metadata": {}
        }
      ]
    },
    {
      "metadata": {},
      "cell_type": "markdown",
      "source": "# 誤差の分散の大きさを計算"
    },
    {
      "metadata": {
        "trusted": true
      },
      "cell_type": "code",
      "source": "#誤差\nresid = data1['Body_Length'] - effect\n\n#誤差の平方和\nsquares_resid = sp.sum(resid **2)\nsquares_resid",
      "execution_count": 42,
      "outputs": [
        {
          "output_type": "execute_result",
          "execution_count": 42,
          "data": {
            "text/plain": "669.882917"
          },
          "metadata": {}
        }
      ]
    },
    {
      "metadata": {},
      "cell_type": "markdown",
      "source": "# 自由度 （標本数n-1）"
    },
    {
      "metadata": {
        "trusted": true
      },
      "cell_type": "code",
      "source": "df_all = len(data1)-1 #全体の自由度（全てのデータ個数-1）\ndf_feed = 3-1  #飼料の自由度（飼料の水準数-1)\ndf_resid = df_all - df_feed #誤差の自由度 (全体の自由度 – 飼料の自由度)\n\nprint(df_all, df_feed, df_resid)",
      "execution_count": 43,
      "outputs": [
        {
          "output_type": "stream",
          "text": "89 2 87\n",
          "name": "stdout"
        }
      ]
    },
    {
      "metadata": {},
      "cell_type": "markdown",
      "source": "# 飼料の分散"
    },
    {
      "metadata": {
        "trusted": true
      },
      "cell_type": "code",
      "source": "variance_feed=(squares_feed / df_feed)\nvariance_feed",
      "execution_count": 44,
      "outputs": [
        {
          "output_type": "execute_result",
          "execution_count": 44,
          "data": {
            "text/plain": "814.9323101388883"
          },
          "metadata": {}
        }
      ]
    },
    {
      "metadata": {},
      "cell_type": "markdown",
      "source": "# 誤差の分散"
    },
    {
      "metadata": {
        "trusted": true
      },
      "cell_type": "code",
      "source": "variance_resid = (squares_resid / df_resid)\nvariance_resid",
      "execution_count": 45,
      "outputs": [
        {
          "output_type": "execute_result",
          "execution_count": 45,
          "data": {
            "text/plain": "7.699803643678161"
          },
          "metadata": {}
        }
      ]
    },
    {
      "metadata": {},
      "cell_type": "markdown",
      "source": "# F比とp値の計算"
    },
    {
      "metadata": {
        "trusted": true
      },
      "cell_type": "code",
      "source": "f_latio = variance_feed / variance_resid\nf_latio",
      "execution_count": 46,
      "outputs": [
        {
          "output_type": "execute_result",
          "execution_count": 46,
          "data": {
            "text/plain": "105.83806391062706"
          },
          "metadata": {}
        }
      ]
    },
    {
      "metadata": {
        "trusted": true
      },
      "cell_type": "code",
      "source": "alpha = sp.stats.f.cdf(x=f_latio, dfn=df_feed, dfd=df_resid)\np_value = 1-alpha\np_value",
      "execution_count": 47,
      "outputs": [
        {
          "output_type": "execute_result",
          "execution_count": 47,
          "data": {
            "text/plain": "1.1102230246251565e-16"
          },
          "metadata": {}
        }
      ]
    },
    {
      "metadata": {},
      "cell_type": "raw",
      "source": "1.1102230246251565e-16\n=>浮動小数点表記「1.11... *10のマイナス16乗」\n\np値が0.05を下回っているので、「養殖ハマチの体長は飼料によって有意に異なる」と判断できます。"
    },
    {
      "metadata": {},
      "cell_type": "markdown",
      "source": "# statsmodelsモジュールで簡易計算＝分散分析表"
    },
    {
      "metadata": {},
      "cell_type": "raw",
      "source": "ここまで手計算で一元分散分析を行ってきましたが、statsmodelsモジュールを用いると下記のように、簡単に一元分散分析を実行できます（体長のp値が非常に小さいため、上記の計算結果と下記の表で計算誤差が生じていますが、今回は気にしないでください）。"
    },
    {
      "metadata": {
        "trusted": true
      },
      "cell_type": "code",
      "source": "anova_model_1 = smf.ols('Body_Length ~ Feed', data=data1).fit()\nsm.stats.anova_lm(anova_model_1, typ=2)",
      "execution_count": 48,
      "outputs": [
        {
          "output_type": "execute_result",
          "execution_count": 48,
          "data": {
            "text/html": "<div>\n<style scoped>\n    .dataframe tbody tr th:only-of-type {\n        vertical-align: middle;\n    }\n\n    .dataframe tbody tr th {\n        vertical-align: top;\n    }\n\n    .dataframe thead th {\n        text-align: right;\n    }\n</style>\n<table border=\"1\" class=\"dataframe\">\n  <thead>\n    <tr style=\"text-align: right;\">\n      <th></th>\n      <th>sum_sq</th>\n      <th>df</th>\n      <th>F</th>\n      <th>PR(&gt;F)</th>\n    </tr>\n  </thead>\n  <tbody>\n    <tr>\n      <th>Feed</th>\n      <td>1629.713757</td>\n      <td>2.0</td>\n      <td>105.828268</td>\n      <td>5.001548e-24</td>\n    </tr>\n    <tr>\n      <th>Residual</th>\n      <td>669.882911</td>\n      <td>87.0</td>\n      <td>NaN</td>\n      <td>NaN</td>\n    </tr>\n  </tbody>\n</table>\n</div>",
            "text/plain": "               sum_sq    df           F        PR(>F)\nFeed      1629.713757   2.0  105.828268  5.001548e-24\nResidual   669.882911  87.0         NaN           NaN"
          },
          "metadata": {}
        }
      ]
    },
    {
      "metadata": {
        "trusted": true
      },
      "cell_type": "code",
      "source": "# 体高をもとに一元分散分析をする場合\nanova_model2 = smf.ols('Body_Height ~ Feed', data=data1).fit()\nsm.stats.anova_lm(anova_model2, typ=2)",
      "execution_count": 49,
      "outputs": [
        {
          "output_type": "execute_result",
          "execution_count": 49,
          "data": {
            "text/html": "<div>\n<style scoped>\n    .dataframe tbody tr th:only-of-type {\n        vertical-align: middle;\n    }\n\n    .dataframe tbody tr th {\n        vertical-align: top;\n    }\n\n    .dataframe thead th {\n        text-align: right;\n    }\n</style>\n<table border=\"1\" class=\"dataframe\">\n  <thead>\n    <tr style=\"text-align: right;\">\n      <th></th>\n      <th>sum_sq</th>\n      <th>df</th>\n      <th>F</th>\n      <th>PR(&gt;F)</th>\n    </tr>\n  </thead>\n  <tbody>\n    <tr>\n      <th>Feed</th>\n      <td>28.056643</td>\n      <td>2.0</td>\n      <td>1.819162</td>\n      <td>0.168276</td>\n    </tr>\n    <tr>\n      <th>Residual</th>\n      <td>670.893326</td>\n      <td>87.0</td>\n      <td>NaN</td>\n      <td>NaN</td>\n    </tr>\n  </tbody>\n</table>\n</div>",
            "text/plain": "              sum_sq    df         F    PR(>F)\nFeed       28.056643   2.0  1.819162  0.168276\nResidual  670.893326  87.0       NaN       NaN"
          },
          "metadata": {}
        }
      ]
    },
    {
      "metadata": {},
      "cell_type": "raw",
      "source": "体高での分析においては、有意差は認められない。\n=各群平均のバラ付きより、個体誤差のバラ付きの方が大きい。\n\nResidual : 誤差"
    },
    {
      "metadata": {},
      "cell_type": "markdown",
      "source": "# 3.2二元分散分析"
    },
    {
      "metadata": {
        "trusted": true
      },
      "cell_type": "raw",
      "source": "一元分散分析ではハマチを飼料A、B、Cで養殖した場合の体長と体高のデータを解析しました。二元分散分析では、これに養殖池X、Yという因子が加わります。\n\n　因子　データの変動を生ずる要因のこと\n　水準　各因子における条件項目\n \n二元分散分析も、一元分散分析と同様に「データ全体の平均値から各群の平均値がどのくらいずれているか」を調べます。異なる点は、交互作用の有無ついても解析できるようになる点です。交互作用とは「2つの効果がある場合にその効果を組み合わせたときにだけ現れる作用」です。\nLesson7-2.csvは体長のデータのみとなっていますが、資料がA,B,Cで60件ずつ、養殖池がX,Yで90件ずつの合計180件のデータが書かれています。"
    },
    {
      "metadata": {},
      "cell_type": "markdown",
      "source": "# 二元分散分析の分散分析表\n\n    因子＼値\t平方和\t自由度\tF比\tp値\n    飼料\t \t \t \t \n    養殖池\t \t \t \t \n    残差\t \t \t \t "
    },
    {
      "metadata": {
        "trusted": true
      },
      "cell_type": "code",
      "source": "data2 = pd.read_csv('Lesson7-2.csv')\ndata2",
      "execution_count": 12,
      "outputs": [
        {
          "output_type": "execute_result",
          "execution_count": 12,
          "data": {
            "text/html": "<div>\n<style scoped>\n    .dataframe tbody tr th:only-of-type {\n        vertical-align: middle;\n    }\n\n    .dataframe tbody tr th {\n        vertical-align: top;\n    }\n\n    .dataframe thead th {\n        text-align: right;\n    }\n</style>\n<table border=\"1\" class=\"dataframe\">\n  <thead>\n    <tr style=\"text-align: right;\">\n      <th></th>\n      <th>Body_Length</th>\n      <th>Feed</th>\n      <th>Area</th>\n    </tr>\n  </thead>\n  <tbody>\n    <tr>\n      <th>0</th>\n      <td>34.873</td>\n      <td>A</td>\n      <td>X</td>\n    </tr>\n    <tr>\n      <th>1</th>\n      <td>28.165</td>\n      <td>A</td>\n      <td>X</td>\n    </tr>\n    <tr>\n      <th>2</th>\n      <td>28.415</td>\n      <td>A</td>\n      <td>X</td>\n    </tr>\n    <tr>\n      <th>3</th>\n      <td>26.781</td>\n      <td>A</td>\n      <td>X</td>\n    </tr>\n    <tr>\n      <th>4</th>\n      <td>32.596</td>\n      <td>A</td>\n      <td>X</td>\n    </tr>\n    <tr>\n      <th>5</th>\n      <td>23.095</td>\n      <td>A</td>\n      <td>X</td>\n    </tr>\n    <tr>\n      <th>6</th>\n      <td>35.234</td>\n      <td>A</td>\n      <td>X</td>\n    </tr>\n    <tr>\n      <th>7</th>\n      <td>27.716</td>\n      <td>A</td>\n      <td>X</td>\n    </tr>\n    <tr>\n      <th>8</th>\n      <td>30.957</td>\n      <td>A</td>\n      <td>X</td>\n    </tr>\n    <tr>\n      <th>9</th>\n      <td>29.252</td>\n      <td>A</td>\n      <td>X</td>\n    </tr>\n    <tr>\n      <th>10</th>\n      <td>34.386</td>\n      <td>A</td>\n      <td>X</td>\n    </tr>\n    <tr>\n      <th>11</th>\n      <td>23.820</td>\n      <td>A</td>\n      <td>X</td>\n    </tr>\n    <tr>\n      <th>12</th>\n      <td>29.033</td>\n      <td>A</td>\n      <td>X</td>\n    </tr>\n    <tr>\n      <th>13</th>\n      <td>28.848</td>\n      <td>A</td>\n      <td>X</td>\n    </tr>\n    <tr>\n      <th>14</th>\n      <td>33.401</td>\n      <td>A</td>\n      <td>X</td>\n    </tr>\n    <tr>\n      <th>15</th>\n      <td>26.700</td>\n      <td>A</td>\n      <td>X</td>\n    </tr>\n    <tr>\n      <th>16</th>\n      <td>29.483</td>\n      <td>A</td>\n      <td>X</td>\n    </tr>\n    <tr>\n      <th>17</th>\n      <td>27.366</td>\n      <td>A</td>\n      <td>X</td>\n    </tr>\n    <tr>\n      <th>18</th>\n      <td>30.127</td>\n      <td>A</td>\n      <td>X</td>\n    </tr>\n    <tr>\n      <th>19</th>\n      <td>31.748</td>\n      <td>A</td>\n      <td>X</td>\n    </tr>\n    <tr>\n      <th>20</th>\n      <td>26.698</td>\n      <td>A</td>\n      <td>X</td>\n    </tr>\n    <tr>\n      <th>21</th>\n      <td>33.434</td>\n      <td>A</td>\n      <td>X</td>\n    </tr>\n    <tr>\n      <th>22</th>\n      <td>32.705</td>\n      <td>A</td>\n      <td>X</td>\n    </tr>\n    <tr>\n      <th>23</th>\n      <td>31.507</td>\n      <td>A</td>\n      <td>X</td>\n    </tr>\n    <tr>\n      <th>24</th>\n      <td>32.703</td>\n      <td>A</td>\n      <td>X</td>\n    </tr>\n    <tr>\n      <th>25</th>\n      <td>27.949</td>\n      <td>A</td>\n      <td>X</td>\n    </tr>\n    <tr>\n      <th>26</th>\n      <td>29.631</td>\n      <td>A</td>\n      <td>X</td>\n    </tr>\n    <tr>\n      <th>27</th>\n      <td>27.193</td>\n      <td>A</td>\n      <td>X</td>\n    </tr>\n    <tr>\n      <th>28</th>\n      <td>29.196</td>\n      <td>A</td>\n      <td>X</td>\n    </tr>\n    <tr>\n      <th>29</th>\n      <td>31.591</td>\n      <td>A</td>\n      <td>X</td>\n    </tr>\n    <tr>\n      <th>...</th>\n      <td>...</td>\n      <td>...</td>\n      <td>...</td>\n    </tr>\n    <tr>\n      <th>150</th>\n      <td>33.880</td>\n      <td>C</td>\n      <td>Y</td>\n    </tr>\n    <tr>\n      <th>151</th>\n      <td>29.630</td>\n      <td>C</td>\n      <td>Y</td>\n    </tr>\n    <tr>\n      <th>152</th>\n      <td>36.578</td>\n      <td>C</td>\n      <td>Y</td>\n    </tr>\n    <tr>\n      <th>153</th>\n      <td>38.874</td>\n      <td>C</td>\n      <td>Y</td>\n    </tr>\n    <tr>\n      <th>154</th>\n      <td>35.383</td>\n      <td>C</td>\n      <td>Y</td>\n    </tr>\n    <tr>\n      <th>155</th>\n      <td>34.300</td>\n      <td>C</td>\n      <td>Y</td>\n    </tr>\n    <tr>\n      <th>156</th>\n      <td>34.227</td>\n      <td>C</td>\n      <td>Y</td>\n    </tr>\n    <tr>\n      <th>157</th>\n      <td>34.262</td>\n      <td>C</td>\n      <td>Y</td>\n    </tr>\n    <tr>\n      <th>158</th>\n      <td>34.535</td>\n      <td>C</td>\n      <td>Y</td>\n    </tr>\n    <tr>\n      <th>159</th>\n      <td>32.256</td>\n      <td>C</td>\n      <td>Y</td>\n    </tr>\n    <tr>\n      <th>160</th>\n      <td>33.466</td>\n      <td>C</td>\n      <td>Y</td>\n    </tr>\n    <tr>\n      <th>161</th>\n      <td>32.506</td>\n      <td>C</td>\n      <td>Y</td>\n    </tr>\n    <tr>\n      <th>162</th>\n      <td>34.998</td>\n      <td>C</td>\n      <td>Y</td>\n    </tr>\n    <tr>\n      <th>163</th>\n      <td>33.907</td>\n      <td>C</td>\n      <td>Y</td>\n    </tr>\n    <tr>\n      <th>164</th>\n      <td>35.490</td>\n      <td>C</td>\n      <td>Y</td>\n    </tr>\n    <tr>\n      <th>165</th>\n      <td>34.151</td>\n      <td>C</td>\n      <td>Y</td>\n    </tr>\n    <tr>\n      <th>166</th>\n      <td>36.473</td>\n      <td>C</td>\n      <td>Y</td>\n    </tr>\n    <tr>\n      <th>167</th>\n      <td>34.927</td>\n      <td>C</td>\n      <td>Y</td>\n    </tr>\n    <tr>\n      <th>168</th>\n      <td>38.881</td>\n      <td>C</td>\n      <td>Y</td>\n    </tr>\n    <tr>\n      <th>169</th>\n      <td>30.707</td>\n      <td>C</td>\n      <td>Y</td>\n    </tr>\n    <tr>\n      <th>170</th>\n      <td>33.206</td>\n      <td>C</td>\n      <td>Y</td>\n    </tr>\n    <tr>\n      <th>171</th>\n      <td>36.303</td>\n      <td>C</td>\n      <td>Y</td>\n    </tr>\n    <tr>\n      <th>172</th>\n      <td>39.557</td>\n      <td>C</td>\n      <td>Y</td>\n    </tr>\n    <tr>\n      <th>173</th>\n      <td>34.003</td>\n      <td>C</td>\n      <td>Y</td>\n    </tr>\n    <tr>\n      <th>174</th>\n      <td>34.587</td>\n      <td>C</td>\n      <td>Y</td>\n    </tr>\n    <tr>\n      <th>175</th>\n      <td>34.047</td>\n      <td>C</td>\n      <td>Y</td>\n    </tr>\n    <tr>\n      <th>176</th>\n      <td>37.163</td>\n      <td>C</td>\n      <td>Y</td>\n    </tr>\n    <tr>\n      <th>177</th>\n      <td>33.925</td>\n      <td>C</td>\n      <td>Y</td>\n    </tr>\n    <tr>\n      <th>178</th>\n      <td>35.860</td>\n      <td>C</td>\n      <td>Y</td>\n    </tr>\n    <tr>\n      <th>179</th>\n      <td>33.860</td>\n      <td>C</td>\n      <td>Y</td>\n    </tr>\n  </tbody>\n</table>\n<p>180 rows × 3 columns</p>\n</div>",
            "text/plain": "     Body_Length Feed Area\n0         34.873    A    X\n1         28.165    A    X\n2         28.415    A    X\n3         26.781    A    X\n4         32.596    A    X\n5         23.095    A    X\n6         35.234    A    X\n7         27.716    A    X\n8         30.957    A    X\n9         29.252    A    X\n10        34.386    A    X\n11        23.820    A    X\n12        29.033    A    X\n13        28.848    A    X\n14        33.401    A    X\n15        26.700    A    X\n16        29.483    A    X\n17        27.366    A    X\n18        30.127    A    X\n19        31.748    A    X\n20        26.698    A    X\n21        33.434    A    X\n22        32.705    A    X\n23        31.507    A    X\n24        32.703    A    X\n25        27.949    A    X\n26        29.631    A    X\n27        27.193    A    X\n28        29.196    A    X\n29        31.591    A    X\n..           ...  ...  ...\n150       33.880    C    Y\n151       29.630    C    Y\n152       36.578    C    Y\n153       38.874    C    Y\n154       35.383    C    Y\n155       34.300    C    Y\n156       34.227    C    Y\n157       34.262    C    Y\n158       34.535    C    Y\n159       32.256    C    Y\n160       33.466    C    Y\n161       32.506    C    Y\n162       34.998    C    Y\n163       33.907    C    Y\n164       35.490    C    Y\n165       34.151    C    Y\n166       36.473    C    Y\n167       34.927    C    Y\n168       38.881    C    Y\n169       30.707    C    Y\n170       33.206    C    Y\n171       36.303    C    Y\n172       39.557    C    Y\n173       34.003    C    Y\n174       34.587    C    Y\n175       34.047    C    Y\n176       37.163    C    Y\n177       33.925    C    Y\n178       35.860    C    Y\n179       33.860    C    Y\n\n[180 rows x 3 columns]"
          },
          "metadata": {}
        }
      ]
    },
    {
      "metadata": {
        "trusted": true
      },
      "cell_type": "code",
      "source": "fig, ax = plt.subplots(1,2,figsize=(10,5))\nsns.boxplot(x='Feed', y='Body_Length', data=data2, ax=ax[0])\nsns.boxplot(x='Area', y='Body_Length', data=data2, ax=ax[1])",
      "execution_count": 13,
      "outputs": [
        {
          "output_type": "execute_result",
          "execution_count": 13,
          "data": {
            "text/plain": "<matplotlib.axes._subplots.AxesSubplot at 0x7f8f105d7550>"
          },
          "metadata": {}
        },
        {
          "output_type": "display_data",
          "data": {
            "image/png": "[encoded data removed]",
            "text/plain": "<Figure size 720x360 with 2 Axes>"
          },
          "metadata": {
            "needs_background": "light"
          }
        }
      ]
    },
    {
      "metadata": {
        "trusted": true
      },
      "cell_type": "code",
      "source": "# データ全体の平均\nme_all2 = sp.mean(data2['Body_Length'])\nme_all2",
      "execution_count": 62,
      "outputs": [
        {
          "output_type": "execute_result",
          "execution_count": 62,
          "data": {
            "text/plain": "35.382866666666665"
          },
          "metadata": {}
        }
      ]
    },
    {
      "metadata": {
        "trusted": true
      },
      "cell_type": "code",
      "source": "# 飼料ごとの平均\nme_Feed_A = sp.mean(data2.query('Feed==\"A\"')['Body_Length'])\nme_Feed_B = sp.mean(data2.query('Feed==\"B\"')['Body_Length'])\nme_Feed_C = sp.mean(data2.query('Feed==\"C\"')['Body_Length'])\nprint('Feed A:', me_Feed_A)\nprint('Feed B:', me_Feed_B)\nprint('Feed C:', me_Feed_C)",
      "execution_count": 63,
      "outputs": [
        {
          "output_type": "stream",
          "text": "Feed A: 30.373166666666666\nFeed B: 40.664166666666674\nFeed C: 35.11126666666668\n",
          "name": "stdout"
        }
      ]
    },
    {
      "metadata": {
        "trusted": true
      },
      "cell_type": "code",
      "source": "# 養殖池ごとの平均\nme_Area_X = sp.mean(data2.query('Area==\"X\"')['Body_Length'])\nme_Area_Y = sp.mean(data2.query('Area==\"Y\"')['Body_Length'])\nprint('Area X:', me_Area_X)\nprint('Area Y:', me_Area_Y)",
      "execution_count": 64,
      "outputs": [
        {
          "output_type": "stream",
          "text": "Area X: 35.18027777777779\nArea Y: 35.58545555555555\n",
          "name": "stdout"
        }
      ]
    },
    {
      "metadata": {},
      "cell_type": "markdown",
      "source": "# 平方和の計算（＝分散の大きさ）"
    },
    {
      "metadata": {},
      "cell_type": "raw",
      "source": "  種類\t　　　　 概要  \n  全体の平方和     データ全体の平均値からの各データのズレ  \n  飼料の平方和\t データ全体の平均値からの飼料の各水準の平均値のズレ  \n  養殖池の平方和\tデータ全体の平均値からの養殖池の各水準の平均値のズレ  \n  誤差の平方和\t 全体の平方和 – (飼料の平方和 +養殖池の平方和)  "
    },
    {
      "metadata": {
        "trusted": true
      },
      "cell_type": "code",
      "source": "# 全体の平方和\nsquares_all2 = sp.sum((data2['Body_Length']-me_all2)**2)\nsquares_all2",
      "execution_count": 65,
      "outputs": [
        {
          "output_type": "execute_result",
          "execution_count": 65,
          "data": {
            "text/plain": "4304.4535108"
          },
          "metadata": {}
        }
      ]
    },
    {
      "metadata": {
        "trusted": true
      },
      "cell_type": "code",
      "source": "# 飼料の平方和\nfeed = [me_Feed_A]*60 +[me_Feed_B]*60 +[me_Feed_C]*60\nfeed = np.array(feed)\nsquares_feed = sp.sum((feed - me_all2)**2)\nsquares_feed",
      "execution_count": 66,
      "outputs": [
        {
          "output_type": "execute_result",
          "execution_count": 66,
          "data": {
            "text/plain": "3183.7794204000047"
          },
          "metadata": {}
        }
      ]
    },
    {
      "metadata": {
        "trusted": true
      },
      "cell_type": "code",
      "source": "# 養殖池の平方和\narea = [me_Area_X]*90 + [me_Area_Y]*90\narea = np.array(area)\nsquares_area = sp.sum((area - me_all2)**2)\nsquares_area",
      "execution_count": 67,
      "outputs": [
        {
          "output_type": "execute_result",
          "execution_count": 67,
          "data": {
            "text/plain": "7.387606422221529"
          },
          "metadata": {}
        }
      ]
    },
    {
      "metadata": {
        "trusted": true
      },
      "cell_type": "code",
      "source": "# 誤差の平方和\nsquares_resid2 = squares_all2 - squares_feed - squares_area\nsquares_resid2",
      "execution_count": 68,
      "outputs": [
        {
          "output_type": "execute_result",
          "execution_count": 68,
          "data": {
            "text/plain": "1113.2864839777737"
          },
          "metadata": {}
        }
      ]
    },
    {
      "metadata": {},
      "cell_type": "markdown",
      "source": "# 各種自由度の計算"
    },
    {
      "metadata": {},
      "cell_type": "raw",
      "source": "各種自由度を求めます。\n\n全体の自由度   　全てのデータの個数 -1\n飼料の自由度   　飼料の水準数 -1\n養殖池の自由度 　養殖池の水準数-1\n誤差の自由度  　 全体の自由度 – (飼料の自由度 +養殖池の自由度)"
    },
    {
      "metadata": {
        "trusted": true
      },
      "cell_type": "code",
      "source": "df_all2 = len(data2)-1\ndf_feed = 3-1\ndf_area = 2-1\ndf_resid2 = df_all2 - (df_feed + df_area)\n\nprint(df_all2, df_feed, df_area, df_resid2)",
      "execution_count": 69,
      "outputs": [
        {
          "output_type": "stream",
          "text": "179 2 1 176\n",
          "name": "stdout"
        }
      ]
    },
    {
      "metadata": {},
      "cell_type": "markdown",
      "source": "# 分散の計算\n（標本分散s^2を自由度n-1で割って不偏分散に）"
    },
    {
      "metadata": {
        "trusted": true
      },
      "cell_type": "code",
      "source": "# 飼料の分散\nvariance_feed = squares_feed / df_feed\nvariance_feed",
      "execution_count": 70,
      "outputs": [
        {
          "output_type": "execute_result",
          "execution_count": 70,
          "data": {
            "text/plain": "1591.8897102000024"
          },
          "metadata": {}
        }
      ]
    },
    {
      "metadata": {
        "trusted": true
      },
      "cell_type": "code",
      "source": "# 養殖池の分散\nvariance_area = squares_area / df_area\nvariance_area",
      "execution_count": 71,
      "outputs": [
        {
          "output_type": "execute_result",
          "execution_count": 71,
          "data": {
            "text/plain": "7.387606422221529"
          },
          "metadata": {}
        }
      ]
    },
    {
      "metadata": {
        "trusted": true
      },
      "cell_type": "code",
      "source": "# 誤差の分散\nvariance_resid2 = squares_resid2 / df_resid2\nvariance_resid2",
      "execution_count": 72,
      "outputs": [
        {
          "output_type": "execute_result",
          "execution_count": 72,
          "data": {
            "text/plain": "6.325491386237351"
          },
          "metadata": {}
        }
      ]
    },
    {
      "metadata": {},
      "cell_type": "markdown",
      "source": "# f値とp値の計算"
    },
    {
      "metadata": {
        "trusted": true
      },
      "cell_type": "code",
      "source": "# 飼料のf値\nf_ratio_feed = variance_feed/ variance_resid2\nf_ratio_feed",
      "execution_count": 74,
      "outputs": [
        {
          "output_type": "execute_result",
          "execution_count": 74,
          "data": {
            "text/plain": "251.66261607178006"
          },
          "metadata": {}
        }
      ]
    },
    {
      "metadata": {
        "trusted": true
      },
      "cell_type": "code",
      "source": "# 養殖池のf値\nf_ratio_area = variance_area / variance_resid2\nf_ratio_area",
      "execution_count": 76,
      "outputs": [
        {
          "output_type": "execute_result",
          "execution_count": 76,
          "data": {
            "text/plain": "1.1679102809775488"
          },
          "metadata": {}
        }
      ]
    },
    {
      "metadata": {
        "trusted": true
      },
      "cell_type": "code",
      "source": "# 飼料のp値\n1 - sp.stats.f.cdf(x=f_ratio_feed, dfn=df_feed, dfd=df_resid)",
      "execution_count": 77,
      "outputs": [
        {
          "output_type": "execute_result",
          "execution_count": 77,
          "data": {
            "text/plain": "1.1102230246251565e-16"
          },
          "metadata": {}
        }
      ]
    },
    {
      "metadata": {
        "trusted": true
      },
      "cell_type": "code",
      "source": "# 養殖池のp値\n1 - sp.stats.f.cdf(x=f_ratio_area, dfn=df_area, dfd=df_resid)",
      "execution_count": 78,
      "outputs": [
        {
          "output_type": "execute_result",
          "execution_count": 78,
          "data": {
            "text/plain": "0.28281772012731476"
          },
          "metadata": {}
        }
      ]
    },
    {
      "metadata": {},
      "cell_type": "raw",
      "source": "飼料の水準＝A,B,C、　養殖池の水準＝X,Y\n\n帰無仮説（H0）: 水準間で平均値に差がない\n対立仮説（H1）: 水準間で平均値に差がある\n\n飼料のp値は0.05よりも小さくなりましたので「養殖ハマチの体長は飼料によって有意に異なる」と判断できました。しかし養殖池のp値は0.281と0.05よりも大きいため、「養殖ハマチの体長は養殖池によって有意に異なるとは言えない」と判断することになりました。"
    },
    {
      "metadata": {},
      "cell_type": "markdown",
      "source": "# statsmodelsモジュールを用いた二元分散分析"
    },
    {
      "metadata": {
        "trusted": true
      },
      "cell_type": "code",
      "source": "anova_model_3 = smf.ols('Body_Length ~ Feed + Area', data=data2).fit()\nsm.stats.anova_lm(anova_model_3, typ=2)",
      "execution_count": 80,
      "outputs": [
        {
          "output_type": "execute_result",
          "execution_count": 80,
          "data": {
            "text/html": "<div>\n<style scoped>\n    .dataframe tbody tr th:only-of-type {\n        vertical-align: middle;\n    }\n\n    .dataframe tbody tr th {\n        vertical-align: top;\n    }\n\n    .dataframe thead th {\n        text-align: right;\n    }\n</style>\n<table border=\"1\" class=\"dataframe\">\n  <thead>\n    <tr style=\"text-align: right;\">\n      <th></th>\n      <th>sum_sq</th>\n      <th>df</th>\n      <th>F</th>\n      <th>PR(&gt;F)</th>\n    </tr>\n  </thead>\n  <tbody>\n    <tr>\n      <th>Feed</th>\n      <td>3183.779420</td>\n      <td>2.0</td>\n      <td>251.662616</td>\n      <td>2.411422e-52</td>\n    </tr>\n    <tr>\n      <th>Area</th>\n      <td>7.387606</td>\n      <td>1.0</td>\n      <td>1.167910</td>\n      <td>2.813097e-01</td>\n    </tr>\n    <tr>\n      <th>Residual</th>\n      <td>1113.286484</td>\n      <td>176.0</td>\n      <td>NaN</td>\n      <td>NaN</td>\n    </tr>\n  </tbody>\n</table>\n</div>",
            "text/plain": "               sum_sq     df           F        PR(>F)\nFeed      3183.779420    2.0  251.662616  2.411422e-52\nArea         7.387606    1.0    1.167910  2.813097e-01\nResidual  1113.286484  176.0         NaN           NaN"
          },
          "metadata": {}
        }
      ]
    },
    {
      "metadata": {
        "trusted": true
      },
      "cell_type": "code",
      "source": "",
      "execution_count": null,
      "outputs": []
    }
  ],
  "metadata": {
    "kernelspec": {
      "name": "python36",
      "display_name": "Python 3.6",
      "language": "python"
    },
    "language_info": {
      "mimetype": "text/x-python",
      "nbconvert_exporter": "python",
      "name": "python",
      "pygments_lexer": "ipython3",
      "version": "3.6.6",
      "file_extension": ".py",
      "codemirror_mode": {
        "version": 3,
        "name": "ipython"
      }
    }
  },
  "nbformat": 4,
  "nbformat_minor": 1
}