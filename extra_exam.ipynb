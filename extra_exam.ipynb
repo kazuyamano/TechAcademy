{
  "cells": [
    {
      "metadata": {},
      "cell_type": "markdown",
      "source": "“save 生徒名 点数“とすると、その生徒の点数を保存。\n“save 生徒名 点数“とした場合、生徒名がすでに保存されている時は、点数を上書きするか警告文を出して、yes/noで上書きの選択を行う。\n“get 生徒名“とするとその生徒の点数を表示。\n　“get 生徒名“を行った場合、生徒が登録されていない場合はErrorと出力させて処理を継続\n“quit” とするとプログラムが終了する。\n“average” すでに保存されいる生徒全員の平均点\n“登録されている生徒XX人の平均点はXX.XX点です” "
    },
    {
      "metadata": {
        "trusted": false
      },
      "cell_type": "code",
      "source": "call = input('\"save 生徒名 点数\"で保存、\"get 生徒名\"で点数確認、\"average\"で平均点確認、\"quit\"で終了')\n\nwhile True:\n    li = call.split()\n    ",
      "execution_count": null,
      "outputs": []
    }
  ],
  "metadata": {
    "kernelspec": {
      "name": "python3",
      "display_name": "Python 3",
      "language": "python"
    },
    "language_info": {
      "mimetype": "text/x-python",
      "nbconvert_exporter": "python",
      "name": "python",
      "pygments_lexer": "ipython3",
      "version": "3.5.4",
      "file_extension": ".py",
      "codemirror_mode": {
        "version": 3,
        "name": "ipython"
      }
    }
  },
  "nbformat": 4,
  "nbformat_minor": 2
}