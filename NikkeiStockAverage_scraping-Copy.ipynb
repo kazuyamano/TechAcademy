{
  "cells": [
    {
      "metadata": {
        "trusted": true
      },
      "cell_type": "code",
      "source": "import urllib.request as request\nfrom bs4 import BeautifulSoup\nimport pandas as pd\nfrom datetime import datetime, timedelta, timezone",
      "execution_count": 2,
      "outputs": []
    },
    {
      "metadata": {
        "trusted": true
      },
      "cell_type": "code",
      "source": "url = 'https://stocks.finance.yahoo.co.jp/stocks/detail/?code=998407.O'\nresponse = request.urlopen(url)\nbs = BeautifulSoup(response, 'html.parser')",
      "execution_count": 3,
      "outputs": []
    },
    {
      "metadata": {
        "trusted": true
      },
      "cell_type": "code",
      "source": "stoksPrice = bs.select('.stoksPrice')[1].text",
      "execution_count": 4,
      "outputs": []
    },
    {
      "metadata": {
        "trusted": true
      },
      "cell_type": "code",
      "source": "jst = timezone(timedelta(hours=+9), 'JST')\ntoday = datetime.now(jst).date().isoformat()",
      "execution_count": 5,
      "outputs": []
    },
    {
      "metadata": {
        "trusted": true
      },
      "cell_type": "code",
      "source": "df = pd.DataFrame(data = [[today, stoksPrice]])\ndf.to_csv('stoks_price.csv', mode = 'a', header = False, index = False)",
      "execution_count": 6,
      "outputs": []
    }
  ],
  "metadata": {
    "kernelspec": {
      "name": "python36",
      "display_name": "Python 3.6",
      "language": "python"
    },
    "language_info": {
      "mimetype": "text/x-python",
      "nbconvert_exporter": "python",
      "name": "python",
      "pygments_lexer": "ipython3",
      "version": "3.6.6",
      "file_extension": ".py",
      "codemirror_mode": {
        "version": 3,
        "name": "ipython"
      }
    }
  },
  "nbformat": 4,
  "nbformat_minor": 2
}