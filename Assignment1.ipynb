{
  "cells": [
    {
      "metadata": {},
      "cell_type": "markdown",
      "source": "<H2>課題1：仮説検定を実装する</H2>\n<p>ここでは、いわゆる古典的統計手法と言われる仮説検定をPythonで実装してみましょう。</p>\n<p>レッスン6までで学んだ内容を踏まえ、各セルに入っているコメントを実行するコードを記入してください。</p>"
    },
    {
      "metadata": {},
      "cell_type": "markdown",
      "source": "<H2>1. 必要なモジュールの読み込み</H2>"
    },
    {
      "metadata": {
        "trusted": true
      },
      "cell_type": "code",
      "source": "import scipy as sp\nimport matplotlib.pyplot as plt\nimport seaborn as sns\nsns.set()    # seabornデフォルトのスタイルシート適用\nfrom scipy import stats\n\n%matplotlib inline",
      "execution_count": 4,
      "outputs": []
    },
    {
      "metadata": {},
      "cell_type": "markdown",
      "source": "<H2>2. 1標本における解析</H2>\n<p>本課題では乱数を発生させることでデータを作成し、それについて解析してみましょう。</p>\n<p>乱数のパラメータを変更すると結果がどう変化するのか、試してみるとより理解が深まるかと思います。</p>"
    },
    {
      "metadata": {
        "trusted": true
      },
      "cell_type": "code",
      "source": "# 任意の平均値・標準偏差をもつ正規乱数を任意のサイズで作成し、\"data1\"に格納\ndata1 = stats.norm.rvs(loc = 100, scale = 1, size = 10000)\n# stats.norm.rvs() =>期待値loc，標準偏差scaleの正規分布に従う確率変数をsize個取得\ndata1",
      "execution_count": 177,
      "outputs": [
        {
          "output_type": "execute_result",
          "execution_count": 177,
          "data": {
            "text/plain": "array([100.49688214,  99.90215242, 100.73989134, ...,  99.28552725,\n        99.18637365,  99.60097072])"
          },
          "metadata": {}
        }
      ]
    },
    {
      "metadata": {
        "scrolled": false,
        "trusted": true
      },
      "cell_type": "code",
      "source": "#　data1のヒストグラムを作成\nplt.hist(data1, bins=20)",
      "execution_count": 122,
      "outputs": [
        {
          "output_type": "execute_result",
          "execution_count": 122,
          "data": {
            "text/plain": "(array([   3.,    3.,   13.,   32.,   93.,  213.,  397.,  684.,  963.,\n        1273., 1451., 1435., 1221.,  880.,  574.,  408.,  214.,   93.,\n          33.,   17.]),\n array([ 96.01140601,  96.37626046,  96.74111491,  97.10596936,\n         97.47082381,  97.83567827,  98.20053272,  98.56538717,\n         98.93024162,  99.29509607,  99.65995053, 100.02480498,\n        100.38965943, 100.75451388, 101.11936833, 101.48422279,\n        101.84907724, 102.21393169, 102.57878614, 102.94364059,\n        103.30849505]),\n <a list of 20 Patch objects>)"
          },
          "metadata": {}
        },
        {
          "output_type": "display_data",
          "data": {
            "image/png": "[encoded data removed]",
            "text/plain": "<matplotlib.figure.Figure at 0x7fb80258a5c0>"
          },
          "metadata": {}
        }
      ]
    },
    {
      "metadata": {
        "trusted": true
      },
      "cell_type": "code",
      "source": "sns.distplot(data1)",
      "execution_count": 123,
      "outputs": [
        {
          "output_type": "stream",
          "text": "/home/nbuser/anaconda3_420/lib/python3.5/site-packages/scipy/stats/stats.py:1713: FutureWarning: Using a non-tuple sequence for multidimensional indexing is deprecated; use `arr[tuple(seq)]` instead of `arr[seq]`. In the future this will be interpreted as an array index, `arr[np.array(seq)]`, which will result either in an error or a different result.\n  return np.add.reduce(sorted[indexer] * weights, axis=axis) / sumval\n",
          "name": "stderr"
        },
        {
          "output_type": "execute_result",
          "execution_count": 123,
          "data": {
            "text/plain": "<matplotlib.axes._subplots.AxesSubplot at 0x7fb800bc0240>"
          },
          "metadata": {}
        },
        {
          "output_type": "display_data",
          "data": {
            "image/png": "[encoded data removed]",
            "text/plain": "<matplotlib.figure.Figure at 0x7fb800ba3e10>"
          },
          "metadata": {}
        }
      ]
    },
    {
      "metadata": {
        "trusted": true
      },
      "cell_type": "code",
      "source": "# 母平均の点推定を計算（＝標本平均を母平均として扱う）\nmu =sp.mean(data1)   #sum(data1) / len(data1)\nmu",
      "execution_count": 124,
      "outputs": [
        {
          "output_type": "execute_result",
          "execution_count": 124,
          "data": {
            "text/plain": "100.00124406283156"
          },
          "metadata": {}
        }
      ]
    },
    {
      "metadata": {
        "trusted": true
      },
      "cell_type": "code",
      "source": "df = len(data1) - 1\ndf",
      "execution_count": 125,
      "outputs": [
        {
          "output_type": "execute_result",
          "execution_count": 125,
          "data": {
            "text/plain": "9999"
          },
          "metadata": {}
        }
      ]
    },
    {
      "metadata": {
        "trusted": true
      },
      "cell_type": "code",
      "source": "sigma = sp.std(data1, ddof=1)  #標準偏差σを計算する際、データの個数Nではなく”N-ddof”で割る(標本標準偏差 =>不偏標準偏差)\nse = sigma/sp.sqrt(len(data1)) #標準誤差SE=σ/ √n\nse",
      "execution_count": 126,
      "outputs": [
        {
          "output_type": "execute_result",
          "execution_count": 126,
          "data": {
            "text/plain": "0.010026953686203781"
          },
          "metadata": {}
        }
      ]
    },
    {
      "metadata": {
        "trusted": true
      },
      "cell_type": "code",
      "source": "# 95%信頼区間の推定を行い、上側信頼限界と下側信頼限界の値を表示\ninterval = stats.t.interval(alpha=0.95, df=df, loc=mu, scale = se)\ninterval",
      "execution_count": 127,
      "outputs": [
        {
          "output_type": "execute_result",
          "execution_count": 127,
          "data": {
            "text/plain": "(99.9815892155456, 100.02089891011752)"
          },
          "metadata": {}
        }
      ]
    },
    {
      "metadata": {
        "trusted": true
      },
      "cell_type": "code",
      "source": "# 任意のt値を設定し、片側検定した結果を表示\nt_value = 2\nalpha = stats.t.cdf(t_value, df=df)\n1-alpha",
      "execution_count": 128,
      "outputs": [
        {
          "output_type": "execute_result",
          "execution_count": 128,
          "data": {
            "text/plain": "0.022763631680755125"
          },
          "metadata": {}
        }
      ]
    },
    {
      "metadata": {
        "trusted": true
      },
      "cell_type": "code",
      "source": "# 任意のt値を設定し、両側検定した結果を表示\nt_value = 2\nalpha =stats.t.cdf(t_value, df =df)\n(1-alpha)*2",
      "execution_count": 129,
      "outputs": [
        {
          "output_type": "execute_result",
          "execution_count": 129,
          "data": {
            "text/plain": "0.04552726336151025"
          },
          "metadata": {}
        }
      ]
    },
    {
      "metadata": {},
      "cell_type": "markdown",
      "source": "<H2>3. 2標本における解析</H2>\n<p>標本をもう1つ増やし、先ほどの標本と差があるのか否かについて検討してみましょう。</p>"
    },
    {
      "metadata": {
        "trusted": true
      },
      "cell_type": "code",
      "source": "# 任意の平均値・標準偏差をもつ正規乱数を任意のサイズで作成し、\"data2\"に格納\ndata2 = stats.norm.rvs(loc=99.95, scale=2, size=10000)\ndata2",
      "execution_count": 171,
      "outputs": [
        {
          "output_type": "execute_result",
          "execution_count": 171,
          "data": {
            "text/plain": "array([103.5028373 ,  95.34279276,  96.06253667, ...,  99.61360533,\n        99.19704909,  99.07722081])"
          },
          "metadata": {}
        }
      ]
    },
    {
      "metadata": {
        "trusted": true
      },
      "cell_type": "code",
      "source": "# data1とdata2をヒストグラムにてプロット\nfig, ax = plt.subplots(figsize=(9,6))\nsns.distplot(data1)\nsns.distplot(data2)",
      "execution_count": 172,
      "outputs": [
        {
          "output_type": "stream",
          "text": "/home/nbuser/anaconda3_420/lib/python3.5/site-packages/scipy/stats/stats.py:1713: FutureWarning: Using a non-tuple sequence for multidimensional indexing is deprecated; use `arr[tuple(seq)]` instead of `arr[seq]`. In the future this will be interpreted as an array index, `arr[np.array(seq)]`, which will result either in an error or a different result.\n  return np.add.reduce(sorted[indexer] * weights, axis=axis) / sumval\n",
          "name": "stderr"
        },
        {
          "output_type": "execute_result",
          "execution_count": 172,
          "data": {
            "text/plain": "<matplotlib.axes._subplots.AxesSubplot at 0x7fb7fc08ccf8>"
          },
          "metadata": {}
        },
        {
          "output_type": "display_data",
          "data": {
            "image/png": "[encoded data removed]",
            "text/plain": "<matplotlib.figure.Figure at 0x7fb7fc0f4630>"
          },
          "metadata": {}
        }
      ]
    },
    {
      "metadata": {
        "trusted": true
      },
      "cell_type": "code",
      "source": "# data1, data2それぞれの値を使って「対応のあるt検定」で計算し、結果を表示\ndifference = data1 - data2\nstats.ttest_1samp(difference,0)",
      "execution_count": 173,
      "outputs": [
        {
          "output_type": "execute_result",
          "execution_count": 173,
          "data": {
            "text/plain": "Ttest_1sampResult(statistic=2.3778819503973545, pvalue=0.01743108358551868)"
          },
          "metadata": {}
        }
      ]
    },
    {
      "metadata": {},
      "cell_type": "raw",
      "source": "=> p値が0.05を下回ったので、有意差あり"
    },
    {
      "metadata": {
        "trusted": true
      },
      "cell_type": "code",
      "source": "# data1, data2それぞれの値を使って「対応のないt検定」で計算し、結果を表示\nstats.ttest_ind(data1, data2, equal_var=False)",
      "execution_count": 174,
      "outputs": [
        {
          "output_type": "execute_result",
          "execution_count": 174,
          "data": {
            "text/plain": "Ttest_indResult(statistic=2.377283162615784, pvalue=0.01745339547300015)"
          },
          "metadata": {}
        }
      ]
    },
    {
      "metadata": {},
      "cell_type": "raw",
      "source": "=> p値が0.05を下回ったので、有意差あり"
    },
    {
      "metadata": {},
      "cell_type": "markdown",
      "source": "<h2>4. ここまでの仮説検定の結果を解釈して下記に記載してください</h2>"
    },
    {
      "metadata": {},
      "cell_type": "markdown",
      "source": "data1はdata2と「有意に異なる」\n（ここをダブルクリックして編集状態にし、カギカッコの中に文言を埋めてください）"
    }
  ],
  "metadata": {
    "kernelspec": {
      "name": "python3",
      "display_name": "Python 3",
      "language": "python"
    },
    "language_info": {
      "mimetype": "text/x-python",
      "nbconvert_exporter": "python",
      "name": "python",
      "file_extension": ".py",
      "version": "3.5.4",
      "pygments_lexer": "ipython3",
      "codemirror_mode": {
        "version": 3,
        "name": "ipython"
      }
    }
  },
  "nbformat": 4,
  "nbformat_minor": 2
}