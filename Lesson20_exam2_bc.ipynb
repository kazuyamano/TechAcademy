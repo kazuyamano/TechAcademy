{
  "cells": [
    {
      "metadata": {},
      "cell_type": "markdown",
      "source": "# 【課題2】乳がんの腫瘍が良性か悪性かを予測する\n\n## 学習に使うデータセットをインポートする\n\nまずは課題の説明欄に記載したURLから腫瘍の計測データが入ったzipファイルをダウンロードし、解凍してください。\n表示された `breast_cancer_wisconsin_data.csv` ファイルを、Cloud9のワークスペース直下（このノートブックと同じディレクトリ）にアップロードします。\nアップロードが完了した状態で、下記のコードを実行して、画像のデータセットを読み込んでください。"
    },
    {
      "metadata": {
        "trusted": true
      },
      "cell_type": "code",
      "source": "# breast_cancer_wisconsin_data.csv を取り込む（命令を追記すること）\nimport pandas as pd\ncancer_data = pd.read_csv('breast_cancer_wisconsin_data.csv')\n\n# 先頭の5行のみ表示する（命令を追記すること）\ncancer_data.head()",
      "execution_count": 3,
      "outputs": [
        {
          "output_type": "execute_result",
          "execution_count": 3,
          "data": {
            "text/plain": "         id diagnosis  radius_mean  texture_mean  perimeter_mean  area_mean  \\\n0    842302         M        17.99         10.38          122.80     1001.0   \n1    842517         M        20.57         17.77          132.90     1326.0   \n2  84300903         M        19.69         21.25          130.00     1203.0   \n3  84348301         M        11.42         20.38           77.58      386.1   \n4  84358402         M        20.29         14.34          135.10     1297.0   \n\n   smoothness_mean  compactness_mean  concavity_mean  concave points_mean  \\\n0          0.11840           0.27760          0.3001              0.14710   \n1          0.08474           0.07864          0.0869              0.07017   \n2          0.10960           0.15990          0.1974              0.12790   \n3          0.14250           0.28390          0.2414              0.10520   \n4          0.10030           0.13280          0.1980              0.10430   \n\n      ...       texture_worst  perimeter_worst  area_worst  smoothness_worst  \\\n0     ...               17.33           184.60      2019.0            0.1622   \n1     ...               23.41           158.80      1956.0            0.1238   \n2     ...               25.53           152.50      1709.0            0.1444   \n3     ...               26.50            98.87       567.7            0.2098   \n4     ...               16.67           152.20      1575.0            0.1374   \n\n   compactness_worst  concavity_worst  concave points_worst  symmetry_worst  \\\n0             0.6656           0.7119                0.2654          0.4601   \n1             0.1866           0.2416                0.1860          0.2750   \n2             0.4245           0.4504                0.2430          0.3613   \n3             0.8663           0.6869                0.2575          0.6638   \n4             0.2050           0.4000                0.1625          0.2364   \n\n   fractal_dimension_worst  Unnamed: 32  \n0                  0.11890          NaN  \n1                  0.08902          NaN  \n2                  0.08758          NaN  \n3                  0.17300          NaN  \n4                  0.07678          NaN  \n\n[5 rows x 33 columns]",
            "text/html": "<div>\n<table border=\"1\" class=\"dataframe\">\n  <thead>\n    <tr style=\"text-align: right;\">\n      <th></th>\n      <th>id</th>\n      <th>diagnosis</th>\n      <th>radius_mean</th>\n      <th>texture_mean</th>\n      <th>perimeter_mean</th>\n      <th>area_mean</th>\n      <th>smoothness_mean</th>\n      <th>compactness_mean</th>\n      <th>concavity_mean</th>\n      <th>concave points_mean</th>\n      <th>...</th>\n      <th>texture_worst</th>\n      <th>perimeter_worst</th>\n      <th>area_worst</th>\n      <th>smoothness_worst</th>\n      <th>compactness_worst</th>\n      <th>concavity_worst</th>\n      <th>concave points_worst</th>\n      <th>symmetry_worst</th>\n      <th>fractal_dimension_worst</th>\n      <th>Unnamed: 32</th>\n    </tr>\n  </thead>\n  <tbody>\n    <tr>\n      <th>0</th>\n      <td>842302</td>\n      <td>M</td>\n      <td>17.99</td>\n      <td>10.38</td>\n      <td>122.80</td>\n      <td>1001.0</td>\n      <td>0.11840</td>\n      <td>0.27760</td>\n      <td>0.3001</td>\n      <td>0.14710</td>\n      <td>...</td>\n      <td>17.33</td>\n      <td>184.60</td>\n      <td>2019.0</td>\n      <td>0.1622</td>\n      <td>0.6656</td>\n      <td>0.7119</td>\n      <td>0.2654</td>\n      <td>0.4601</td>\n      <td>0.11890</td>\n      <td>NaN</td>\n    </tr>\n    <tr>\n      <th>1</th>\n      <td>842517</td>\n      <td>M</td>\n      <td>20.57</td>\n      <td>17.77</td>\n      <td>132.90</td>\n      <td>1326.0</td>\n      <td>0.08474</td>\n      <td>0.07864</td>\n      <td>0.0869</td>\n      <td>0.07017</td>\n      <td>...</td>\n      <td>23.41</td>\n      <td>158.80</td>\n      <td>1956.0</td>\n      <td>0.1238</td>\n      <td>0.1866</td>\n      <td>0.2416</td>\n      <td>0.1860</td>\n      <td>0.2750</td>\n      <td>0.08902</td>\n      <td>NaN</td>\n    </tr>\n    <tr>\n      <th>2</th>\n      <td>84300903</td>\n      <td>M</td>\n      <td>19.69</td>\n      <td>21.25</td>\n      <td>130.00</td>\n      <td>1203.0</td>\n      <td>0.10960</td>\n      <td>0.15990</td>\n      <td>0.1974</td>\n      <td>0.12790</td>\n      <td>...</td>\n      <td>25.53</td>\n      <td>152.50</td>\n      <td>1709.0</td>\n      <td>0.1444</td>\n      <td>0.4245</td>\n      <td>0.4504</td>\n      <td>0.2430</td>\n      <td>0.3613</td>\n      <td>0.08758</td>\n      <td>NaN</td>\n    </tr>\n    <tr>\n      <th>3</th>\n      <td>84348301</td>\n      <td>M</td>\n      <td>11.42</td>\n      <td>20.38</td>\n      <td>77.58</td>\n      <td>386.1</td>\n      <td>0.14250</td>\n      <td>0.28390</td>\n      <td>0.2414</td>\n      <td>0.10520</td>\n      <td>...</td>\n      <td>26.50</td>\n      <td>98.87</td>\n      <td>567.7</td>\n      <td>0.2098</td>\n      <td>0.8663</td>\n      <td>0.6869</td>\n      <td>0.2575</td>\n      <td>0.6638</td>\n      <td>0.17300</td>\n      <td>NaN</td>\n    </tr>\n    <tr>\n      <th>4</th>\n      <td>84358402</td>\n      <td>M</td>\n      <td>20.29</td>\n      <td>14.34</td>\n      <td>135.10</td>\n      <td>1297.0</td>\n      <td>0.10030</td>\n      <td>0.13280</td>\n      <td>0.1980</td>\n      <td>0.10430</td>\n      <td>...</td>\n      <td>16.67</td>\n      <td>152.20</td>\n      <td>1575.0</td>\n      <td>0.1374</td>\n      <td>0.2050</td>\n      <td>0.4000</td>\n      <td>0.1625</td>\n      <td>0.2364</td>\n      <td>0.07678</td>\n      <td>NaN</td>\n    </tr>\n  </tbody>\n</table>\n<p>5 rows × 33 columns</p>\n</div>"
          },
          "metadata": {}
        }
      ]
    },
    {
      "metadata": {},
      "cell_type": "markdown",
      "source": "このCSVファイルには30以上の列があります。主要な列のみ、以下に概要を記載します。\n\n- id：連番\n- diagnosis：\"B\"か\"M\"の文字が格納されている（\"B\"：良性、\"M\"：悪性）\n- radius_mean：中心から外周までの平均距離（半径）\n- texture_mean：グレースケール（色の濃さ）の平均値\n- perimeter_mean：外周の平均の長さ\n\n今回は `radius_mean`（半径）を説明変数、`diagnosis`（良性か悪性か）を目的変数として回帰を行います。\n\n## \tインポートしたデータを計測データと教師データに分ける\n\n`radius_mean`列で測定データ `X`を、`diagnosis` 列で教師データ `y` を作成してください。また、DataFrame形式から ndarray 形式に変換しましょう。"
    },
    {
      "metadata": {
        "trusted": true
      },
      "cell_type": "code",
      "source": "# X と y を作成する（命令を追記すること）\nimport numpy as np\nX = np.array(cancer_data.loc[:, ['radius_mean']])\ny = np.array(cancer_data.loc[:, ['diagnosis']])",
      "execution_count": 4,
      "outputs": []
    },
    {
      "metadata": {},
      "cell_type": "markdown",
      "source": "さて、`y` には \"B\" もしくは \"M\" という文字データが入っています。数値化した方がコンピュータは学習しやすくなるので、データの前処理のひとつ「カテゴリの数値化」を実行しましょう。カテゴリの数値化をするには `LabelEncoder` というものを利用します。\n\n[sklearn.preprocessing.LabelEncoder - scikit-learn 0.19 documentation](http://scikit-learn.org/0.19/modules/generated/sklearn.preprocessing.LabelEncoder.html)\n\n※ `LabelEncoder` は、ここまでのレッスンの内容では登場しませんでしたので、以下のコードをそのまま実行いただければ大丈夫です。"
    },
    {
      "metadata": {
        "trusted": true
      },
      "cell_type": "code",
      "source": "# カテゴリの数値化\nfrom sklearn.preprocessing import LabelEncoder\nle = LabelEncoder()\nle.fit([\"B\", \"M\"])                         # 良性：0, 悪性：1\ny = le.transform(y.flatten())\n\n# 数値化した状態を確認してみる\nprint(y)",
      "execution_count": 5,
      "outputs": [
        {
          "output_type": "stream",
          "text": "[1 1 1 1 1 1 1 1 1 1 1 1 1 1 1 1 1 1 1 0 0 0 1 1 1 1 1 1 1 1 1 1 1 1 1 1 1\n 0 1 1 1 1 1 1 1 1 0 1 0 0 0 0 0 1 1 0 1 1 0 0 0 0 1 0 1 1 0 0 0 0 1 0 1 1\n 0 1 0 1 1 0 0 0 1 1 0 1 1 1 0 0 0 1 0 0 1 1 0 0 0 1 1 0 0 0 0 1 0 0 1 0 0\n 0 0 0 0 0 0 1 1 1 0 1 1 0 0 0 1 1 0 1 0 1 1 0 1 1 0 0 1 0 0 1 0 0 0 0 1 0\n 0 0 0 0 0 0 0 0 1 0 0 0 0 1 1 0 1 0 0 1 1 0 0 1 1 0 0 0 0 1 0 0 1 1 1 0 1\n 0 1 0 0 0 1 0 0 1 1 0 1 1 1 1 0 1 1 1 0 1 0 1 0 0 1 0 1 1 1 1 0 0 1 1 0 0\n 0 1 0 0 0 0 0 1 1 0 0 1 0 0 1 1 0 1 0 0 0 0 1 0 0 0 0 0 1 0 1 1 1 1 1 1 1\n 1 1 1 1 1 1 1 0 0 0 0 0 0 1 0 1 0 0 1 0 0 1 0 1 1 0 0 0 0 0 0 0 0 0 0 0 0\n 0 1 0 0 1 0 1 0 0 0 0 0 0 0 0 0 0 0 0 0 0 1 0 0 0 1 0 1 0 0 0 0 1 1 1 0 0\n 0 0 1 0 1 0 1 0 0 0 1 0 0 0 0 0 0 0 1 1 1 0 0 0 0 0 0 0 0 0 0 0 1 1 0 1 1\n 1 0 1 1 0 0 0 0 0 1 0 0 0 0 0 1 0 0 0 1 0 0 1 1 0 0 0 0 0 0 1 0 0 0 0 0 0\n 0 1 0 0 0 0 0 1 0 0 1 0 0 0 0 0 0 0 0 0 0 0 0 1 0 1 1 0 1 0 0 0 0 0 1 0 0\n 1 0 1 0 0 1 0 1 0 0 0 0 0 0 0 0 1 1 0 0 0 0 0 0 1 0 0 0 0 0 0 0 0 0 0 1 0\n 0 0 0 0 0 0 1 0 1 0 0 1 0 0 0 0 0 1 1 0 1 0 1 0 0 0 0 0 1 0 0 1 0 1 0 1 1\n 0 0 0 1 0 0 0 0 0 0 0 0 0 0 0 1 0 1 1 0 0 0 0 0 0 0 0 0 0 0 0 0 0 0 0 0 0\n 0 0 0 0 0 0 0 1 1 1 1 1 1 0]\n",
          "name": "stdout"
        }
      ]
    },
    {
      "metadata": {},
      "cell_type": "markdown",
      "source": "## \tデータを訓練データとテストデータに分ける\n\n`X` および `y` を訓練データとテストデータに分けましょう。その際、訓練データ8割、テストデータ2割としてください。"
    },
    {
      "metadata": {
        "trusted": true
      },
      "cell_type": "code",
      "source": "# 訓練データ8割、テストデータ2割に分割する（命令を追記すること）\nfrom sklearn.model_selection import train_test_split\nX_train, X_test, y_train, y_test = train_test_split(X, y, train_size = 0.8, test_size = 0.2)",
      "execution_count": 6,
      "outputs": []
    },
    {
      "metadata": {},
      "cell_type": "markdown",
      "source": "## 訓練データを用いて予測モデルを作成する\n\n今までの回帰プログラムでは線形分析を利用しました。線形回帰は、ボストンの住宅価格で描いたような直線のグラフになります。\n\nしかし今回は **ロジスティック回帰** を利用します。\n\n[ロジスティック回帰 - Wikipedia](https://ja.wikipedia.org/wiki/%E3%83%AD%E3%82%B8%E3%82%B9%E3%83%86%E3%82%A3%E3%83%83%E3%82%AF%E5%9B%9E%E5%B8%B0)\n\nロジスティック回帰は以下の赤線のようなグラフを描くため、`y` が2つの値しか存在しない場合に利用すると良い精度が得られます。\n\n![ml_14.png](https://techacademy.s3.amazonaws.com/bootcamp/python/machine-learning/ml_14.png)\n\nロジスティック回帰は `LogisticRegression` クラスを利用します。使い方は線形回帰の `LinearRegression` と同じです。コンストラクタで回帰モデルのオブジェクトを作成し、訓練データを指定して `fit()` を実行します。より詳しい情報は公式ドキュメントを参照してください。\n\n[sklearn.linear_model.LogisticRegression - scikit-learn 0.19 documentation](http://scikit-learn.org/0.19/modules/generated/sklearn.linear_model.LogisticRegression.html)"
    },
    {
      "metadata": {
        "trusted": true
      },
      "cell_type": "code",
      "source": "# ロジスティック回帰の回帰モデルを作成する\nfrom sklearn.linear_model import LogisticRegression\nmodel = LogisticRegression()\n\n# 訓練データを回帰モデルに設定する\nmodel.fit(X_train, y_train)",
      "execution_count": 7,
      "outputs": [
        {
          "output_type": "execute_result",
          "execution_count": 7,
          "data": {
            "text/plain": "LogisticRegression(C=1.0, class_weight=None, dual=False, fit_intercept=True,\n          intercept_scaling=1, max_iter=100, multi_class='ovr', n_jobs=1,\n          penalty='l2', random_state=None, solver='liblinear', tol=0.0001,\n          verbose=0, warm_start=False)"
          },
          "metadata": {}
        }
      ]
    },
    {
      "metadata": {},
      "cell_type": "markdown",
      "source": "## テストデータを回帰モデルに当てはめて予測を実施する\n\nこの回帰モデルを使って予測を実行しましょう。"
    },
    {
      "metadata": {
        "trusted": true
      },
      "cell_type": "code",
      "source": "# 予測を実行する（命令を追記すること）\ny_pred = model.predict(X_test)",
      "execution_count": 8,
      "outputs": []
    },
    {
      "metadata": {},
      "cell_type": "markdown",
      "source": "## 結果を表示する\n\nまずは、予測値と実際の値をそのまま表示してください。"
    },
    {
      "metadata": {
        "trusted": true
      },
      "cell_type": "code",
      "source": "# 予測値を表示する（命令を追記すること）\nprint(y_pred)",
      "execution_count": 9,
      "outputs": [
        {
          "output_type": "stream",
          "text": "[1 1 0 0 0 0 1 0 0 0 0 0 0 0 0 0 0 0 0 0 0 1 0 0 1 1 0 0 1 0 1 0 1 0 0 0 1\n 0 0 0 1 0 0 1 0 1 0 0 1 1 0 1 1 0 0 0 0 0 1 0 0 0 0 0 1 1 0 1 0 0 0 0 1 1\n 0 0 1 0 0 1 0 1 0 0 1 0 0 1 0 1 0 0 0 0 1 1 1 1 1 0 0 0 1 0 0 1 0 0 1 1 1\n 0 0 0]\n",
          "name": "stdout"
        }
      ]
    },
    {
      "metadata": {
        "trusted": true
      },
      "cell_type": "code",
      "source": "# 実際の値を表示する（命令を追記すること）\nprint(y_test)",
      "execution_count": 10,
      "outputs": [
        {
          "output_type": "stream",
          "text": "[1 1 0 0 0 0 1 0 0 0 0 0 0 0 0 0 0 0 0 0 0 1 0 0 1 1 0 0 1 0 1 0 1 0 1 0 1\n 0 0 1 1 1 0 1 0 1 0 0 1 1 1 1 1 0 0 0 0 0 1 0 1 0 0 1 1 1 0 1 0 0 0 1 1 1\n 0 0 1 0 0 1 0 1 1 0 1 0 0 1 0 1 0 0 0 0 1 1 1 1 1 0 0 0 1 0 0 1 0 0 1 1 1\n 0 0 1]\n",
          "name": "stdout"
        }
      ]
    },
    {
      "metadata": {},
      "cell_type": "markdown",
      "source": "この機械学習は回帰ではありますが、分類に近いところがありますので、予測の精度を混合行列で示したり、正答率を表示したりすることができます。"
    },
    {
      "metadata": {
        "trusted": true
      },
      "cell_type": "code",
      "source": "# 混合行列で集計結果を表示する（命令を追記すること）\nfrom sklearn.metrics import confusion_matrix\nresult = confusion_matrix(y_test, y_pred)",
      "execution_count": 11,
      "outputs": []
    },
    {
      "metadata": {
        "trusted": true
      },
      "cell_type": "code",
      "source": "# 正答率を表示する（命令を追記すること）\nprint(result)",
      "execution_count": 12,
      "outputs": [
        {
          "output_type": "stream",
          "text": "[[66  0]\n [ 9 39]]\n",
          "name": "stdout"
        }
      ]
    },
    {
      "metadata": {},
      "cell_type": "markdown",
      "source": "最後にグラフを表示してみましょう。"
    },
    {
      "metadata": {
        "trusted": true
      },
      "cell_type": "code",
      "source": "# ロジスティック回帰のグラフを描くために必要な関数と処理。ここの内容は変更しない！\ndef logit(x, lr):\n    return x * lr.coef_ + lr.intercept_\n\ndef p(x, lr):\n    return 1 / (1 + np.exp(-logit(x, lr)))\n\nimport math\nX_test_min = math.floor(np.min(X_test))\nX_test_max = math.ceil(np.max(X_test))",
      "execution_count": 13,
      "outputs": []
    },
    {
      "metadata": {
        "trusted": true
      },
      "cell_type": "code",
      "source": "%matplotlib inline\nimport matplotlib.pyplot as plt\n\n# テストデータを青色の散布図として表示する（命令を追記すること）\nplt.scatter(X_test, y_test, color = 'blue')\n\n# ロジスティック回帰の曲線グラフを赤色の線で表示する。ここの内容は変更しない！\nX_plot = np.arange(X_test_min, X_test_max)\nplt.plot(X_plot, p(X_plot, model).flatten(), color = \"red\")",
      "execution_count": 15,
      "outputs": [
        {
          "output_type": "execute_result",
          "execution_count": 15,
          "data": {
            "text/plain": "[<matplotlib.lines.Line2D at 0x7fe934e459e8>]"
          },
          "metadata": {}
        },
        {
          "output_type": "display_data",
          "data": {
            "image/png": "[encoded data removed]",
            "text/plain": "<matplotlib.figure.Figure at 0x7fe9363b4f28>"
          },
          "metadata": {}
        }
      ]
    },
    {
      "metadata": {
        "trusted": true
      },
      "cell_type": "code",
      "source": "",
      "execution_count": null,
      "outputs": []
    }
  ],
  "metadata": {
    "kernelspec": {
      "name": "python3",
      "display_name": "Python 3",
      "language": "python"
    },
    "language_info": {
      "mimetype": "text/x-python",
      "nbconvert_exporter": "python",
      "name": "python",
      "file_extension": ".py",
      "version": "3.5.4",
      "pygments_lexer": "ipython3",
      "codemirror_mode": {
        "version": 3,
        "name": "ipython"
      }
    }
  },
  "nbformat": 4,
  "nbformat_minor": 2
}