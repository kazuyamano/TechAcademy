{
  "cells": [
    {
      "metadata": {
        "trusted": true
      },
      "cell_type": "code",
      "source": "# 関連ライブラリをインポート\n\n# 指定のURLにアクセスしてHTMLデータを取得する（urllib）\nimport urllib.request as request\n# 取得したHTMLデータを解析してデータを抽出する（BeautifulSoup）\nfrom bs4 import BeautifulSoup\n# 抽出したデータをCSVに保存する（Pandas）\nimport pandas as pd\nfrom datetime import datetime, timedelta, timezone",
      "execution_count": 1,
      "outputs": []
    },
    {
      "metadata": {
        "trusted": true
      },
      "cell_type": "code",
      "source": "# yahooファイナンスのいま時点のHTMLデータを取得\nurl = 'https://stocks.finance.yahoo.co.jp/stocks/detail/?code=998407.O'\nresponse = request.urlopen(url)\n\n# BeautifulSoupのオブジェクトを生成\nbs = BeautifulSoup(response, 'html.parser')",
      "execution_count": 11,
      "outputs": []
    },
    {
      "metadata": {
        "trusted": true
      },
      "cell_type": "code",
      "source": "# HTMLデータから、現時点の日経平均（class=\"stocksPrice\")を取得\nstoksPrice = bs.select('.stoksPrice')[1].text\n# class=\"stocksPrice\"が複数あるので、select()でリストで取得し[1]指定\n# タグ<td></td>を除去するため、.textを指定\nprint(stoksPrice)",
      "execution_count": 12,
      "outputs": [
        {
          "output_type": "stream",
          "text": "23,391.86\n",
          "name": "stdout"
        }
      ]
    },
    {
      "metadata": {
        "trusted": true
      },
      "cell_type": "code",
      "source": "# 今日の日付を取得\njst = timezone(timedelta(hours=+9), 'JST')\ntoday = datetime.now(jst).date().isoformat()",
      "execution_count": 3,
      "outputs": []
    },
    {
      "metadata": {
        "trusted": true
      },
      "cell_type": "code",
      "source": "# PandasのDataFrameを生成\ndf = pd.DataFrame(data = [[today, stoksPrice]])\ndf",
      "execution_count": 9,
      "outputs": [
        {
          "output_type": "execute_result",
          "execution_count": 9,
          "data": {
            "text/html": "<div>\n<style scoped>\n    .dataframe tbody tr th:only-of-type {\n        vertical-align: middle;\n    }\n\n    .dataframe tbody tr th {\n        vertical-align: top;\n    }\n\n    .dataframe thead th {\n        text-align: right;\n    }\n</style>\n<table border=\"1\" class=\"dataframe\">\n  <thead>\n    <tr style=\"text-align: right;\">\n      <th></th>\n      <th>0</th>\n      <th>1</th>\n    </tr>\n  </thead>\n  <tbody>\n    <tr>\n      <th>0</th>\n      <td>2019-12-11</td>\n      <td>23,391.86</td>\n    </tr>\n  </tbody>\n</table>\n</div>",
            "text/plain": "            0          1\n0  2019-12-11  23,391.86"
          },
          "metadata": {}
        }
      ]
    },
    {
      "metadata": {
        "trusted": true
      },
      "cell_type": "code",
      "source": "# CSVに保存（追記）\ndf.to_csv('stoks_price.csv', mode = 'a', header = False, index = False)",
      "execution_count": 5,
      "outputs": []
    },
    {
      "metadata": {
        "trusted": true
      },
      "cell_type": "code",
      "source": "data = pd.read_csv('stoks_price.csv')\ndata.columns = ['取得日','日経平均']\ndata",
      "execution_count": 19,
      "outputs": [
        {
          "output_type": "execute_result",
          "execution_count": 19,
          "data": {
            "text/html": "<div>\n<style scoped>\n    .dataframe tbody tr th:only-of-type {\n        vertical-align: middle;\n    }\n\n    .dataframe tbody tr th {\n        vertical-align: top;\n    }\n\n    .dataframe thead th {\n        text-align: right;\n    }\n</style>\n<table border=\"1\" class=\"dataframe\">\n  <thead>\n    <tr style=\"text-align: right;\">\n      <th></th>\n      <th>取得日</th>\n      <th>日経平均</th>\n    </tr>\n  </thead>\n  <tbody>\n    <tr>\n      <th>0</th>\n      <td>2019-11-15</td>\n      <td>23,298.85</td>\n    </tr>\n    <tr>\n      <th>1</th>\n      <td>2019-12-11</td>\n      <td>23,391.86</td>\n    </tr>\n  </tbody>\n</table>\n</div>",
            "text/plain": "          取得日       日経平均\n0  2019-11-15  23,298.85\n1  2019-12-11  23,391.86"
          },
          "metadata": {}
        }
      ]
    },
    {
      "metadata": {
        "trusted": true
      },
      "cell_type": "code",
      "source": "",
      "execution_count": null,
      "outputs": []
    }
  ],
  "metadata": {
    "kernelspec": {
      "name": "python36",
      "display_name": "Python 3.6",
      "language": "python"
    },
    "language_info": {
      "mimetype": "text/x-python",
      "nbconvert_exporter": "python",
      "name": "python",
      "pygments_lexer": "ipython3",
      "version": "3.6.6",
      "file_extension": ".py",
      "codemirror_mode": {
        "version": 3,
        "name": "ipython"
      }
    }
  },
  "nbformat": 4,
  "nbformat_minor": 2
}