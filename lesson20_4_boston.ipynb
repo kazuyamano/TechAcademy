{
  "cells": [
    {
      "metadata": {
        "trusted": true
      },
      "cell_type": "code",
      "source": "from sklearn import datasets\nboston = datasets.load_boston()",
      "execution_count": 33,
      "outputs": []
    },
    {
      "metadata": {
        "trusted": true
      },
      "cell_type": "code",
      "source": "#　計測データの呼び出しは'data'プロパティ\n# importしたデータセット内の計測データ'boston.data'をPandasの DataFrame に変換\n# 綺麗な表として出力\n\nimport pandas as pd\nX_df = pd.DataFrame(boston.data)\nX_df.columns = boston.feature_names\nX_df.head()",
      "execution_count": 34,
      "outputs": [
        {
          "output_type": "execute_result",
          "execution_count": 34,
          "data": {
            "text/plain": "      CRIM    ZN  INDUS  CHAS    NOX     RM   AGE     DIS  RAD    TAX  \\\n0  0.00632  18.0   2.31   0.0  0.538  6.575  65.2  4.0900  1.0  296.0   \n1  0.02731   0.0   7.07   0.0  0.469  6.421  78.9  4.9671  2.0  242.0   \n2  0.02729   0.0   7.07   0.0  0.469  7.185  61.1  4.9671  2.0  242.0   \n3  0.03237   0.0   2.18   0.0  0.458  6.998  45.8  6.0622  3.0  222.0   \n4  0.06905   0.0   2.18   0.0  0.458  7.147  54.2  6.0622  3.0  222.0   \n\n   PTRATIO       B  LSTAT  \n0     15.3  396.90   4.98  \n1     17.8  396.90   9.14  \n2     17.8  392.83   4.03  \n3     18.7  394.63   2.94  \n4     18.7  396.90   5.33  ",
            "text/html": "<div>\n<table border=\"1\" class=\"dataframe\">\n  <thead>\n    <tr style=\"text-align: right;\">\n      <th></th>\n      <th>CRIM</th>\n      <th>ZN</th>\n      <th>INDUS</th>\n      <th>CHAS</th>\n      <th>NOX</th>\n      <th>RM</th>\n      <th>AGE</th>\n      <th>DIS</th>\n      <th>RAD</th>\n      <th>TAX</th>\n      <th>PTRATIO</th>\n      <th>B</th>\n      <th>LSTAT</th>\n    </tr>\n  </thead>\n  <tbody>\n    <tr>\n      <th>0</th>\n      <td>0.00632</td>\n      <td>18.0</td>\n      <td>2.31</td>\n      <td>0.0</td>\n      <td>0.538</td>\n      <td>6.575</td>\n      <td>65.2</td>\n      <td>4.0900</td>\n      <td>1.0</td>\n      <td>296.0</td>\n      <td>15.3</td>\n      <td>396.90</td>\n      <td>4.98</td>\n    </tr>\n    <tr>\n      <th>1</th>\n      <td>0.02731</td>\n      <td>0.0</td>\n      <td>7.07</td>\n      <td>0.0</td>\n      <td>0.469</td>\n      <td>6.421</td>\n      <td>78.9</td>\n      <td>4.9671</td>\n      <td>2.0</td>\n      <td>242.0</td>\n      <td>17.8</td>\n      <td>396.90</td>\n      <td>9.14</td>\n    </tr>\n    <tr>\n      <th>2</th>\n      <td>0.02729</td>\n      <td>0.0</td>\n      <td>7.07</td>\n      <td>0.0</td>\n      <td>0.469</td>\n      <td>7.185</td>\n      <td>61.1</td>\n      <td>4.9671</td>\n      <td>2.0</td>\n      <td>242.0</td>\n      <td>17.8</td>\n      <td>392.83</td>\n      <td>4.03</td>\n    </tr>\n    <tr>\n      <th>3</th>\n      <td>0.03237</td>\n      <td>0.0</td>\n      <td>2.18</td>\n      <td>0.0</td>\n      <td>0.458</td>\n      <td>6.998</td>\n      <td>45.8</td>\n      <td>6.0622</td>\n      <td>3.0</td>\n      <td>222.0</td>\n      <td>18.7</td>\n      <td>394.63</td>\n      <td>2.94</td>\n    </tr>\n    <tr>\n      <th>4</th>\n      <td>0.06905</td>\n      <td>0.0</td>\n      <td>2.18</td>\n      <td>0.0</td>\n      <td>0.458</td>\n      <td>7.147</td>\n      <td>54.2</td>\n      <td>6.0622</td>\n      <td>3.0</td>\n      <td>222.0</td>\n      <td>18.7</td>\n      <td>396.90</td>\n      <td>5.33</td>\n    </tr>\n  </tbody>\n</table>\n</div>"
          },
          "metadata": {}
        }
      ]
    },
    {
      "metadata": {
        "trusted": true
      },
      "cell_type": "code",
      "source": "#　教師データの呼び出しは'target'プロパティ\n\ny = boston.target\nprint(y[0:5])",
      "execution_count": 35,
      "outputs": [
        {
          "output_type": "stream",
          "text": "[24.  21.6 34.7 33.4 36.2]\n",
          "name": "stdout"
        }
      ]
    },
    {
      "metadata": {
        "trusted": true
      },
      "cell_type": "code",
      "source": "# X_df に存在する列から1つ、RM（部屋数）のみを取り出して X に格納\n# Pandas の DataFrame形式から NumPy の ndarray 形式に変換\n\nimport numpy as np\nX = np.array(X_df.loc[:, ['RM']])",
      "execution_count": 36,
      "outputs": []
    },
    {
      "metadata": {
        "trusted": true
      },
      "cell_type": "code",
      "source": "# X と y を訓練データとテストデータに分割\nfrom sklearn.model_selection import train_test_split\nX_train, X_test, y_train, y_test = train_test_split(X, y, train_size = 0.8, test_size = 0.2)",
      "execution_count": 37,
      "outputs": []
    },
    {
      "metadata": {
        "trusted": true
      },
      "cell_type": "code",
      "source": "# 訓練データを用いて予測モデルを作成\n# X_train と y_train を用いて、線形回帰による回帰モデルを作成\n\nfrom sklearn import linear_model\nmodel = linear_model.LinearRegression()\nmodel.fit(X_train, y_train)",
      "execution_count": 38,
      "outputs": [
        {
          "output_type": "execute_result",
          "execution_count": 38,
          "data": {
            "text/plain": "LinearRegression(copy_X=True, fit_intercept=True, n_jobs=1, normalize=False)"
          },
          "metadata": {}
        }
      ]
    },
    {
      "metadata": {
        "trusted": true
      },
      "cell_type": "code",
      "source": "y_pred = model.predict(X_test)",
      "execution_count": 39,
      "outputs": []
    },
    {
      "metadata": {
        "trusted": true
      },
      "cell_type": "code",
      "source": "print(y_pred)",
      "execution_count": 40,
      "outputs": [
        {
          "output_type": "stream",
          "text": "[21.00707551 39.88260058 20.0341103  34.92047801 16.58450637 16.71718345\n 26.74757025 25.5357863  25.36772868 21.45817756 25.00507801 20.04295544\n 21.85620878 25.25274188 31.7981442  12.53343304 18.11471529 23.33334687\n 22.03311155 18.15009585 18.9019326  28.34854027 19.89258809 22.80263858\n 33.00992814 14.82432386 20.19332279 10.92361788 20.96284982 21.84736364\n 19.33534437 23.6871524  43.92482877 20.96284982 20.61788942 36.10572654\n 14.73587247 30.64827622 28.56966873 24.65127248 25.12890994 28.69350067\n 22.17463376 20.14025196 15.16928425 27.37557506 16.61988693 25.58001199\n 15.90343073 23.64292671 21.64392546 18.68080414 20.45867693 24.04095793\n 30.29447069 36.10572654 21.29011993 18.92846801 21.73237685 13.56831422\n 19.56531797 19.9191235  22.00657613 23.33334687 16.51374527 11.26857827\n 20.21101306 18.07933474 20.85670816 18.55697221 32.49691012 23.84636489\n 26.04880432 31.74507337 18.12356043 23.86405517 11.16243661 18.9019326\n 30.98439148 16.11571404 17.85820628 29.55147908 23.52793992 18.84001663\n 18.56581734 22.14809834 20.08718113 10.33099361 22.05964696 10.50789638\n 20.24639362 22.21885945 20.18447765 17.29211743 30.15294848 20.11371654\n 18.85770691 24.34169264 20.99823037 23.04145731 24.82817524 12.80763233]\n",
          "name": "stdout"
        }
      ]
    },
    {
      "metadata": {
        "trusted": true
      },
      "cell_type": "code",
      "source": "print(y_test)",
      "execution_count": 41,
      "outputs": [
        {
          "output_type": "stream",
          "text": "[21.  48.3 19.1 46.7 15.7 15.6 25.  28.4 23.3 21.7 24.8 18.9 21.4 22.4\n 36.  16.3 20.  17.7 19.6 20.3 17.4 41.3  5.6 22.2 43.5  7.  19.2 16.1\n 21.9 11.7 15.6 23.6 50.  24.3 21.2 45.4 19.3 33.8 10.4 14.1 24.1 33.1\n 23.4 22.5  5.  14.1 17.2 27.9 11.3 16.7 14.6 21.  23.2 22.2 31.6 43.8\n 23.3 22.  21.7 13.1 13.2 17.5 20.5 23.1 18.5 15.3 19.4 19.8 18.2 19.5\n 31.7  7.2 50.  31.  19.4 14.3  7.4 50.  32.7 22.8 15.  28.7 25.  19.3\n 10.2 23.  18.9 13.8 21.2 14.6 16.8 27.  23.2 16.2 36.2 22.9 22.  22.9\n 22.6  7.2 10.9 17.8]\n",
          "name": "stdout"
        }
      ]
    },
    {
      "metadata": {
        "trusted": true
      },
      "cell_type": "code",
      "source": "%matplotlib inline\nimport matplotlib.pyplot as plt\nplt.scatter(X_test, y_test, color = 'blue')\nplt.plot(X_test, y_pred, color = 'red')",
      "execution_count": 42,
      "outputs": [
        {
          "output_type": "execute_result",
          "execution_count": 42,
          "data": {
            "text/plain": "[<matplotlib.lines.Line2D at 0x7f9c5dcec080>]"
          },
          "metadata": {}
        },
        {
          "output_type": "display_data",
          "data": {
            "image/png": "[encoded data removed]",
            "text/plain": "<matplotlib.figure.Figure at 0x7f9c5d98a630>"
          },
          "metadata": {}
        }
      ]
    },
    {
      "metadata": {
        "trusted": true
      },
      "cell_type": "code",
      "source": "",
      "execution_count": null,
      "outputs": []
    }
  ],
  "metadata": {
    "kernelspec": {
      "name": "python3",
      "display_name": "Python 3",
      "language": "python"
    },
    "language_info": {
      "mimetype": "text/x-python",
      "nbconvert_exporter": "python",
      "name": "python",
      "file_extension": ".py",
      "version": "3.5.4",
      "pygments_lexer": "ipython3",
      "codemirror_mode": {
        "version": 3,
        "name": "ipython"
      }
    }
  },
  "nbformat": 4,
  "nbformat_minor": 2
}