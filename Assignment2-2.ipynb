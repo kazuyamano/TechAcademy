{
  "cells": [
    {
      "metadata": {},
      "cell_type": "markdown",
      "source": "<H2>課題3-2: 二元分散分析</H2>\n<p>B社は、合成樹脂の製造に用いられる試薬の製造・販売しています。新製品を開発するにあたり、製造条件が製造量に変化を与えるか否かを検討したいと考えています。温度条件(100℃、200℃が20件ずつ)と反応時間（10時間、30時間が20件ずつ）の条件で10回ずつ実験を行いました。その結果が *dataset/data2.csv* です（データの合計：40件）。このデータを二元分散分析にて解析し、結論を出してみましょう。</p>\n<p>レッスン7までで学んだ内容を踏まえ、各セルに入っているコメントを実行するコードを記入してください。</p>"
    },
    {
      "metadata": {},
      "cell_type": "markdown",
      "source": "<H2>1. 必要なモジュールの読み込み¶</H2>"
    },
    {
      "metadata": {
        "trusted": true
      },
      "cell_type": "code",
      "source": "import numpy as np\nimport pandas as pd\nimport scipy as sp\nfrom scipy import stats\n\nfrom matplotlib import pyplot as plt\nimport seaborn as sns\nsns.set()\n\nimport statsmodels.formula.api as smf\nimport statsmodels.api as sm\n\n%matplotlib inline",
      "execution_count": 34,
      "outputs": []
    },
    {
      "metadata": {},
      "cell_type": "markdown",
      "source": "<H2>2. データの読み込み</H2>"
    },
    {
      "metadata": {
        "trusted": true
      },
      "cell_type": "code",
      "source": "# データを読み込んで変数 data に格納\ndata= pd.read_csv('dataset/data2.csv')",
      "execution_count": 35,
      "outputs": []
    },
    {
      "metadata": {
        "scrolled": true,
        "trusted": true
      },
      "cell_type": "code",
      "source": "# データの最初の5行だけ表示\ndata.head()",
      "execution_count": 36,
      "outputs": [
        {
          "output_type": "execute_result",
          "execution_count": 36,
          "data": {
            "text/html": "<div>\n<table border=\"1\" class=\"dataframe\">\n  <thead>\n    <tr style=\"text-align: right;\">\n      <th></th>\n      <th>Temp</th>\n      <th>Time</th>\n      <th>Volume</th>\n    </tr>\n  </thead>\n  <tbody>\n    <tr>\n      <th>0</th>\n      <td>100</td>\n      <td>10</td>\n      <td>21.624345</td>\n    </tr>\n    <tr>\n      <th>1</th>\n      <td>100</td>\n      <td>10</td>\n      <td>19.388244</td>\n    </tr>\n    <tr>\n      <th>2</th>\n      <td>100</td>\n      <td>10</td>\n      <td>19.471828</td>\n    </tr>\n    <tr>\n      <th>3</th>\n      <td>100</td>\n      <td>10</td>\n      <td>18.927031</td>\n    </tr>\n    <tr>\n      <th>4</th>\n      <td>100</td>\n      <td>10</td>\n      <td>20.865408</td>\n    </tr>\n  </tbody>\n</table>\n</div>",
            "text/plain": "   Temp  Time     Volume\n0   100    10  21.624345\n1   100    10  19.388244\n2   100    10  19.471828\n3   100    10  18.927031\n4   100    10  20.865408"
          },
          "metadata": {}
        }
      ]
    },
    {
      "metadata": {},
      "cell_type": "markdown",
      "source": "<H2>3. データ内容の把握</H2>"
    },
    {
      "metadata": {
        "trusted": true
      },
      "cell_type": "code",
      "source": "# 箱髭図にて温度ごとの製造量を表示\nf, ax=plt.subplots()\nsns.boxplot(x='Temp',y='Volume', data=data, ax=ax)",
      "execution_count": 37,
      "outputs": [
        {
          "output_type": "execute_result",
          "execution_count": 37,
          "data": {
            "text/plain": "<matplotlib.axes._subplots.AxesSubplot at 0x7f2cb4a46208>"
          },
          "metadata": {}
        },
        {
          "output_type": "display_data",
          "data": {
            "image/png": "[encoded data removed]",
            "text/plain": "<matplotlib.figure.Figure at 0x7f2cb47c8cf8>"
          },
          "metadata": {}
        }
      ]
    },
    {
      "metadata": {
        "scrolled": true,
        "trusted": true
      },
      "cell_type": "code",
      "source": "# 箱髭図にて反応時間ごとの製造量を表示\nf, ax=plt.subplots()\nsns.boxplot(x='Time',y='Volume', data=data, ax=ax)",
      "execution_count": 38,
      "outputs": [
        {
          "output_type": "execute_result",
          "execution_count": 38,
          "data": {
            "text/plain": "<matplotlib.axes._subplots.AxesSubplot at 0x7f2cb47cb860>"
          },
          "metadata": {}
        },
        {
          "output_type": "display_data",
          "data": {
            "image/png": "[encoded data removed]",
            "text/plain": "<matplotlib.figure.Figure at 0x7f2cb4b25b70>"
          },
          "metadata": {}
        }
      ]
    },
    {
      "metadata": {},
      "cell_type": "markdown",
      "source": "<H2>4. 分散分析</H2>\n<H3>4-1. Statsmodelsを使った分散分析</H3>\n<p>今回は先に、Statsmodelsのパッケージを使って計算してみましょう。</p>"
    },
    {
      "metadata": {
        "trusted": true
      },
      "cell_type": "code",
      "source": "# 最小二乗法を使い、反応時間と温度の両方を説明変数に入れて、モデルを作成\nanova_model = smf.ols('Volume ~ Temp + Time', data=data).fit()",
      "execution_count": 39,
      "outputs": []
    },
    {
      "metadata": {
        "scrolled": true,
        "trusted": true
      },
      "cell_type": "code",
      "source": "# Statsmodelsの関数を使って分散分析を実行し、結果を表示\nsm.stats.anova_lm(anova_model, typ=2)",
      "execution_count": 40,
      "outputs": [
        {
          "output_type": "execute_result",
          "execution_count": 40,
          "data": {
            "text/html": "<div>\n<table border=\"1\" class=\"dataframe\">\n  <thead>\n    <tr style=\"text-align: right;\">\n      <th></th>\n      <th>sum_sq</th>\n      <th>df</th>\n      <th>F</th>\n      <th>PR(&gt;F)</th>\n    </tr>\n  </thead>\n  <tbody>\n    <tr>\n      <th>Temp</th>\n      <td>2.573902</td>\n      <td>1.0</td>\n      <td>1.441871</td>\n      <td>0.237468</td>\n    </tr>\n    <tr>\n      <th>Time</th>\n      <td>22.149872</td>\n      <td>1.0</td>\n      <td>12.408114</td>\n      <td>0.001156</td>\n    </tr>\n    <tr>\n      <th>Residual</th>\n      <td>66.049143</td>\n      <td>37.0</td>\n      <td>NaN</td>\n      <td>NaN</td>\n    </tr>\n  </tbody>\n</table>\n</div>",
            "text/plain": "             sum_sq    df          F    PR(>F)\nTemp       2.573902   1.0   1.441871  0.237468\nTime      22.149872   1.0  12.408114  0.001156\nResidual  66.049143  37.0        NaN       NaN"
          },
          "metadata": {}
        }
      ]
    },
    {
      "metadata": {},
      "cell_type": "markdown",
      "source": "<H3>4-2. 計算内容の理解</H3>"
    },
    {
      "metadata": {
        "trusted": true
      },
      "cell_type": "code",
      "source": "# 全体の平方和を求める\nme_all = sp.mean(data['Volume'])\nsquares_all = sp.sum((data['Volume']-me_all)**2)\nsquares_all",
      "execution_count": 41,
      "outputs": [
        {
          "output_type": "execute_result",
          "execution_count": 41,
          "data": {
            "text/plain": "90.77291728168149"
          },
          "metadata": {}
        }
      ]
    },
    {
      "metadata": {
        "trusted": true
      },
      "cell_type": "code",
      "source": "#　温度の平方和を求める\nme_temp100 = sp.mean(data.query('Temp==100')['Volume'])\nme_temp200 = sp.mean(data.query('Temp==200')['Volume'])\n\ntemp = [me_temp100]*20 + [me_temp200]*20\ntemp = np.array(temp)\nsquares_temp = sp.sum((temp - me_all)**2)\nsquares_temp",
      "execution_count": 49,
      "outputs": [
        {
          "output_type": "execute_result",
          "execution_count": 49,
          "data": {
            "text/plain": "2.5739020080148745"
          },
          "metadata": {}
        }
      ]
    },
    {
      "metadata": {
        "trusted": true
      },
      "cell_type": "code",
      "source": "#　時間の平方和を求める\nme_time10 = sp.mean(data.query('Time==10')['Volume'])\nme_time30 = sp.mean(data.query('Time==30')['Volume'])\n\ntime = [me_time10]*20 + [me_time30]*20\ntime = np.array(time)\nsquares_time = sp.sum((time - me_all)**2)\nsquares_time",
      "execution_count": 51,
      "outputs": [
        {
          "output_type": "execute_result",
          "execution_count": 51,
          "data": {
            "text/plain": "22.149872444759993"
          },
          "metadata": {}
        }
      ]
    },
    {
      "metadata": {
        "trusted": true
      },
      "cell_type": "code",
      "source": "# 誤差の平方和を求める\nsquares_resid = squares_all - (squares_temp + squares_time)\nsquares_resid",
      "execution_count": 58,
      "outputs": [
        {
          "output_type": "execute_result",
          "execution_count": 58,
          "data": {
            "text/plain": "66.04914282890661"
          },
          "metadata": {}
        }
      ]
    },
    {
      "metadata": {
        "trusted": true
      },
      "cell_type": "code",
      "source": "df_temp = 2-1     # 温度の自由度\ndf_time = 2-1     # 時間の自由度\ndf_resid = len(data)-1 - (df_temp + df_time)  # 誤差の自由度",
      "execution_count": 59,
      "outputs": []
    },
    {
      "metadata": {
        "trusted": true
      },
      "cell_type": "code",
      "source": "# 温度の分散を求める\nvariance_temp = squares_temp/df_temp\nvariance_temp",
      "execution_count": 60,
      "outputs": [
        {
          "output_type": "execute_result",
          "execution_count": 60,
          "data": {
            "text/plain": "2.5739020080148745"
          },
          "metadata": {}
        }
      ]
    },
    {
      "metadata": {
        "trusted": true
      },
      "cell_type": "code",
      "source": "# 時間の分散を求める\nvariance_time = squares_time/df_time\nvariance_time",
      "execution_count": 61,
      "outputs": [
        {
          "output_type": "execute_result",
          "execution_count": 61,
          "data": {
            "text/plain": "22.149872444759993"
          },
          "metadata": {}
        }
      ]
    },
    {
      "metadata": {
        "trusted": true
      },
      "cell_type": "code",
      "source": "# 誤差の分散を求める\nvariance_resid = squares_resid/df_resid\nvariance_resid",
      "execution_count": 63,
      "outputs": [
        {
          "output_type": "execute_result",
          "execution_count": 63,
          "data": {
            "text/plain": "1.7851119683488272"
          },
          "metadata": {}
        }
      ]
    },
    {
      "metadata": {
        "trusted": true
      },
      "cell_type": "code",
      "source": "# 温度のF値を求める\nf_ratio_temp = variance_temp/variance_resid\nf_ratio_temp",
      "execution_count": 65,
      "outputs": [
        {
          "output_type": "execute_result",
          "execution_count": 65,
          "data": {
            "text/plain": "1.441871464452537"
          },
          "metadata": {}
        }
      ]
    },
    {
      "metadata": {
        "trusted": true
      },
      "cell_type": "code",
      "source": "# 時間のF値を求める\nf_ratio_time = variance_time/variance_resid\nf_ratio_time",
      "execution_count": 66,
      "outputs": [
        {
          "output_type": "execute_result",
          "execution_count": 66,
          "data": {
            "text/plain": "12.408113797616814"
          },
          "metadata": {}
        }
      ]
    },
    {
      "metadata": {
        "trusted": true
      },
      "cell_type": "code",
      "source": "# 温度のp値を求める\n1- sp.stats.f.cdf(x=f_ratio_temp, dfn=df_temp, dfd=df_resid)",
      "execution_count": 67,
      "outputs": [
        {
          "output_type": "execute_result",
          "execution_count": 67,
          "data": {
            "text/plain": "0.2374678473721319"
          },
          "metadata": {}
        }
      ]
    },
    {
      "metadata": {
        "trusted": true
      },
      "cell_type": "code",
      "source": "# 時間のp値を求める\n1- sp.stats.f.cdf(x=f_ratio_time, dfn=df_time, dfd=df_resid)",
      "execution_count": 68,
      "outputs": [
        {
          "output_type": "execute_result",
          "execution_count": 68,
          "data": {
            "text/plain": "0.0011555176940118983"
          },
          "metadata": {}
        }
      ]
    },
    {
      "metadata": {},
      "cell_type": "markdown",
      "source": "Statsmodelsで計算した場合と結果は一致しましたか？\n=> yes"
    },
    {
      "metadata": {},
      "cell_type": "markdown",
      "source": "<H2>4. 結果の解釈</H2>"
    },
    {
      "metadata": {},
      "cell_type": "markdown",
      "source": "p値を確認して結果を解釈しましょう。"
    },
    {
      "metadata": {
        "scrolled": true
      },
      "cell_type": "markdown",
      "source": "温度によって、製造量は「変化するとは言い切れない」<br>\n反応時間によって、製造量は「変化する」<br>"
    },
    {
      "metadata": {
        "trusted": false
      },
      "cell_type": "code",
      "source": "",
      "execution_count": null,
      "outputs": []
    }
  ],
  "metadata": {
    "kernelspec": {
      "name": "python3",
      "display_name": "Python 3",
      "language": "python"
    },
    "language_info": {
      "mimetype": "text/x-python",
      "nbconvert_exporter": "python",
      "name": "python",
      "file_extension": ".py",
      "version": "3.5.4",
      "pygments_lexer": "ipython3",
      "codemirror_mode": {
        "version": 3,
        "name": "ipython"
      }
    }
  },
  "nbformat": 4,
  "nbformat_minor": 2
}