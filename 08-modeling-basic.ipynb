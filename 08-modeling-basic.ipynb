{
  "cells": [
    {
      "metadata": {
        "trusted": true
      },
      "cell_type": "code",
      "source": "import numpy as np\nimport pandas as pd\nimport scipy as sp\n\nimport statsmodels.formula.api as smf\nimport statsmodels.api as sm\n\nimport matplotlib.pyplot as plt\nimport seaborn as sns\n\n%matplotlib inline\nsns.set()",
      "execution_count": 1,
      "outputs": [
        {
          "output_type": "stream",
          "text": "/home/nbuser/anaconda3_501/lib/python3.6/site-packages/matplotlib/font_manager.py:229: UserWarning: Matplotlib is building the font cache using fc-list. This may take a moment.\n  'Matplotlib is building the font cache using fc-list. '\n",
          "name": "stderr"
        }
      ]
    },
    {
      "metadata": {
        "trusted": true
      },
      "cell_type": "code",
      "source": "data = pd.read_csv('iris.csv')",
      "execution_count": 2,
      "outputs": []
    },
    {
      "metadata": {},
      "cell_type": "raw",
      "source": "まずはモデルを3つ作成します。それぞれ、説明変数を下記のように選択しています。\n\nmodel1: がく片の幅\nmodel2: がく片の幅、花弁の長さ\nmodel3: がく片の幅、花弁の長さ、花弁の幅\n\nstatsmodelsのols関数を使用すると、下記のように実行できます。"
    },
    {
      "metadata": {
        "trusted": true
      },
      "cell_type": "code",
      "source": "# 最小二乗法の実施（説明変数：sepal_width）\nmodel1 = smf.ols(formula='sepal_length ~ sepal_width',data=data).fit()",
      "execution_count": 8,
      "outputs": []
    },
    {
      "metadata": {
        "trusted": true
      },
      "cell_type": "code",
      "source": "# 最小二乗法の実施（説明変数：sepal_width, petal_length）\nmodel2 = smf.ols(formula='sepal_length ~ sepal_width+petal_length', data=data).fit()",
      "execution_count": 9,
      "outputs": []
    },
    {
      "metadata": {
        "trusted": true
      },
      "cell_type": "code",
      "source": "# 最小二乗法の実施（説明変数：sepal_width, petal_length, petal_width）\nmodel3 = smf.ols(formula='sepal_length ~ sepal_width+petal_length+petal_width', data=data).fit()",
      "execution_count": 10,
      "outputs": []
    },
    {
      "metadata": {
        "trusted": true
      },
      "cell_type": "code",
      "source": "# モデルごとにAICを計算します。\nprint('Model-1:',model1.aic)\nprint('Model-2:',model2.aic)\nprint('Model-3:',model3.aic)",
      "execution_count": 11,
      "outputs": [
        {
          "output_type": "stream",
          "text": "Model-1: 370.2744704915235\nModel-2: 98.88368575631824\nModel-3: 81.99955266474052\n",
          "name": "stdout"
        }
      ]
    },
    {
      "metadata": {},
      "cell_type": "raw",
      "source": "AICが最も小さいモデルを選択しますので、model3が最適であるとわかりました。それでは、model3の詳細を確認してみましょう。"
    },
    {
      "metadata": {
        "trusted": true
      },
      "cell_type": "code",
      "source": "# 推定結果の表示\nmodel3.summary()",
      "execution_count": 12,
      "outputs": [
        {
          "output_type": "execute_result",
          "execution_count": 12,
          "data": {
            "text/html": "<table class=\"simpletable\">\n<caption>OLS Regression Results</caption>\n<tr>\n  <th>Dep. Variable:</th>      <td>sepal_length</td>   <th>  R-squared:         </th> <td>   0.859</td>\n</tr>\n<tr>\n  <th>Model:</th>                   <td>OLS</td>       <th>  Adj. R-squared:    </th> <td>   0.856</td>\n</tr>\n<tr>\n  <th>Method:</th>             <td>Least Squares</td>  <th>  F-statistic:       </th> <td>   297.0</td>\n</tr>\n<tr>\n  <th>Date:</th>             <td>Mon, 25 Nov 2019</td> <th>  Prob (F-statistic):</th> <td>6.28e-62</td>\n</tr>\n<tr>\n  <th>Time:</th>                 <td>15:06:45</td>     <th>  Log-Likelihood:    </th> <td> -37.000</td>\n</tr>\n<tr>\n  <th>No. Observations:</th>      <td>   150</td>      <th>  AIC:               </th> <td>   82.00</td>\n</tr>\n<tr>\n  <th>Df Residuals:</th>          <td>   146</td>      <th>  BIC:               </th> <td>   94.04</td>\n</tr>\n<tr>\n  <th>Df Model:</th>              <td>     3</td>      <th>                     </th>     <td> </td>   \n</tr>\n<tr>\n  <th>Covariance Type:</th>      <td>nonrobust</td>    <th>                     </th>     <td> </td>   \n</tr>\n</table>\n<table class=\"simpletable\">\n<tr>\n        <td></td>          <th>coef</th>     <th>std err</th>      <th>t</th>      <th>P>|t|</th>  <th>[0.025</th>    <th>0.975]</th>  \n</tr>\n<tr>\n  <th>Intercept</th>    <td>    1.8451</td> <td>    0.250</td> <td>    7.368</td> <td> 0.000</td> <td>    1.350</td> <td>    2.340</td>\n</tr>\n<tr>\n  <th>sepal_width</th>  <td>    0.6549</td> <td>    0.067</td> <td>    9.823</td> <td> 0.000</td> <td>    0.523</td> <td>    0.787</td>\n</tr>\n<tr>\n  <th>petal_length</th> <td>    0.7111</td> <td>    0.057</td> <td>   12.560</td> <td> 0.000</td> <td>    0.599</td> <td>    0.823</td>\n</tr>\n<tr>\n  <th>petal_width</th>  <td>   -0.5626</td> <td>    0.127</td> <td>   -4.426</td> <td> 0.000</td> <td>   -0.814</td> <td>   -0.311</td>\n</tr>\n</table>\n<table class=\"simpletable\">\n<tr>\n  <th>Omnibus:</th>       <td> 0.265</td> <th>  Durbin-Watson:     </th> <td>   2.053</td>\n</tr>\n<tr>\n  <th>Prob(Omnibus):</th> <td> 0.876</td> <th>  Jarque-Bera (JB):  </th> <td>   0.432</td>\n</tr>\n<tr>\n  <th>Skew:</th>          <td> 0.003</td> <th>  Prob(JB):          </th> <td>   0.806</td>\n</tr>\n<tr>\n  <th>Kurtosis:</th>      <td> 2.737</td> <th>  Cond. No.          </th> <td>    54.7</td>\n</tr>\n</table><br/><br/>Warnings:<br/>[1] Standard Errors assume that the covariance matrix of the errors is correctly specified.",
            "text/plain": "<class 'statsmodels.iolib.summary.Summary'>\n\"\"\"\n                            OLS Regression Results                            \n==============================================================================\nDep. Variable:           sepal_length   R-squared:                       0.859\nModel:                            OLS   Adj. R-squared:                  0.856\nMethod:                 Least Squares   F-statistic:                     297.0\nDate:                Mon, 25 Nov 2019   Prob (F-statistic):           6.28e-62\nTime:                        15:06:45   Log-Likelihood:                -37.000\nNo. Observations:                 150   AIC:                             82.00\nDf Residuals:                     146   BIC:                             94.04\nDf Model:                           3                                         \nCovariance Type:            nonrobust                                         \n================================================================================\n                   coef    std err          t      P>|t|      [0.025      0.975]\n--------------------------------------------------------------------------------\nIntercept        1.8451      0.250      7.368      0.000       1.350       2.340\nsepal_width      0.6549      0.067      9.823      0.000       0.523       0.787\npetal_length     0.7111      0.057     12.560      0.000       0.599       0.823\npetal_width     -0.5626      0.127     -4.426      0.000      -0.814      -0.311\n==============================================================================\nOmnibus:                        0.265   Durbin-Watson:                   2.053\nProb(Omnibus):                  0.876   Jarque-Bera (JB):                0.432\nSkew:                           0.003   Prob(JB):                        0.806\nKurtosis:                       2.737   Cond. No.                         54.7\n==============================================================================\n\nWarnings:\n[1] Standard Errors assume that the covariance matrix of the errors is correctly specified.\n\"\"\""
          },
          "metadata": {}
        }
      ]
    },
    {
      "metadata": {},
      "cell_type": "raw",
      "source": "各種結果が記載されておりますが、重要な部分を確認しておきましょう。\n\n  要素\t          概要\nDep. Variable\t応答変数の名称\nModel, Method\tパラメータの推定方法\nNo. Observation\tサンプルサイズ\nF-static\t    分散分析の結果\nLog-likelihood\t最大化した尤度(値は対数)\nAIC\t            赤池情報量基準\nBIC\t            ベイズ情報量基準"
    },
    {
      "metadata": {
        "trusted": true
      },
      "cell_type": "code",
      "source": "",
      "execution_count": null,
      "outputs": []
    }
  ],
  "metadata": {
    "kernelspec": {
      "name": "python36",
      "display_name": "Python 3.6",
      "language": "python"
    },
    "language_info": {
      "mimetype": "text/x-python",
      "nbconvert_exporter": "python",
      "name": "python",
      "pygments_lexer": "ipython3",
      "version": "3.6.6",
      "file_extension": ".py",
      "codemirror_mode": {
        "version": 3,
        "name": "ipython"
      }
    }
  },
  "nbformat": 4,
  "nbformat_minor": 2
}