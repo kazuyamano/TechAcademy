{
  "cells": [
    {
      "metadata": {},
      "cell_type": "markdown",
      "source": "<H2>課題2-1: 一元分散分析</H2>\n<p>A社は、エタノールを製造・販売しています。5本の製造ラインがありますが、これらのラインにより製品の濃度に差がないかどうかを確認したく思います。5本のライン(A, B, C, D, E)から10回ずつサンプリングを行い測定を行った結果が *dataset/data1.csv* です（データ数の合計：50件）。このデータを一元分散分析にて解析し、結論を出してみましょう。</p>\n<p>レッスン7までで学んだ内容を踏まえ、各セルに入っているコメントを実行するコードを記入してください。</p>"
    },
    {
      "metadata": {},
      "cell_type": "markdown",
      "source": "<H2>1. 必要なモジュールの読み込み¶</H2>"
    },
    {
      "metadata": {
        "trusted": true
      },
      "cell_type": "code",
      "source": "import numpy as np\nimport pandas as pd\nimport scipy as sp\nfrom scipy import stats\n\nfrom matplotlib import pyplot as plt\nimport seaborn as sns\nsns.set()\n\nimport statsmodels.formula.api as smf\nimport statsmodels.api as sm\n\n%matplotlib inline",
      "execution_count": 63,
      "outputs": []
    },
    {
      "metadata": {},
      "cell_type": "markdown",
      "source": "<H2>2. データの読み込み</H2>"
    },
    {
      "metadata": {
        "trusted": true
      },
      "cell_type": "code",
      "source": "# データを読み込んで変数 data に格納\ndata = pd.read_csv('dataset/data1.csv')",
      "execution_count": 64,
      "outputs": []
    },
    {
      "metadata": {
        "scrolled": true,
        "trusted": true
      },
      "cell_type": "code",
      "source": "# データの最初の5行だけ表示\ndata.head()",
      "execution_count": 65,
      "outputs": [
        {
          "output_type": "execute_result",
          "execution_count": 65,
          "data": {
            "text/html": "<div>\n<table border=\"1\" class=\"dataframe\">\n  <thead>\n    <tr style=\"text-align: right;\">\n      <th></th>\n      <th>Density</th>\n      <th>Line</th>\n    </tr>\n  </thead>\n  <tbody>\n    <tr>\n      <th>0</th>\n      <td>71.624345</td>\n      <td>A</td>\n    </tr>\n    <tr>\n      <th>1</th>\n      <td>69.388244</td>\n      <td>A</td>\n    </tr>\n    <tr>\n      <th>2</th>\n      <td>69.471828</td>\n      <td>A</td>\n    </tr>\n    <tr>\n      <th>3</th>\n      <td>68.927031</td>\n      <td>A</td>\n    </tr>\n    <tr>\n      <th>4</th>\n      <td>70.865408</td>\n      <td>A</td>\n    </tr>\n  </tbody>\n</table>\n</div>",
            "text/plain": "     Density Line\n0  71.624345    A\n1  69.388244    A\n2  69.471828    A\n3  68.927031    A\n4  70.865408    A"
          },
          "metadata": {}
        }
      ]
    },
    {
      "metadata": {},
      "cell_type": "markdown",
      "source": "<H2>3. データ内容の把握</H2>"
    },
    {
      "metadata": {
        "trusted": true
      },
      "cell_type": "code",
      "source": "# （データ数が多くはないので）箱髭図にて製造ラインごとの濃度を表示\nf, ax = plt.subplots(1,1,figsize=(10,5))\nsns.boxplot(x='Line', y='Density', data=data, ax=ax)",
      "execution_count": 66,
      "outputs": [
        {
          "output_type": "execute_result",
          "execution_count": 66,
          "data": {
            "text/plain": "<matplotlib.axes._subplots.AxesSubplot at 0x7f9177974128>"
          },
          "metadata": {}
        },
        {
          "output_type": "display_data",
          "data": {
            "image/png": "[encoded data removed]",
            "text/plain": "<matplotlib.figure.Figure at 0x7f91885537f0>"
          },
          "metadata": {}
        }
      ]
    },
    {
      "metadata": {},
      "cell_type": "markdown",
      "source": "<H2>4. 分散分析</H2>\n<p>ここでは理解を深めるために手動で計算して理解を深めましょう。</p>"
    },
    {
      "metadata": {},
      "cell_type": "markdown",
      "source": "<H3>4-1. 群間・群内平方和の計算</H3>"
    },
    {
      "metadata": {
        "trusted": true
      },
      "cell_type": "code",
      "source": "# ラインの持つ影響（ラインによる影響を考えた場合の濃度）\nmu_all = sp.mean(data['Density'])\nme_A = sp.mean(data.query('Line==\"A\"')['Density'])\nme_B = sp.mean(data.query('Line==\"B\"')['Density'])\nme_C = sp.mean(data.query('Line==\"C\"')['Density'])\nme_D = sp.mean(data.query('Line==\"D\"')['Density'])\nme_E = sp.mean(data.query('Line==\"E\"')['Density'])\n\nprint('mu_all:', mu_all)\nprint('mean_A:', me_A)\nprint('mean_B:', me_B)\nprint('mean_C:', me_C)\nprint('mean_D:', me_D)\nprint('mean_E:', me_E)",
      "execution_count": 67,
      "outputs": [
        {
          "output_type": "stream",
          "text": "mu_all: 69.13448967999292\nmean_A: 69.9028591091939\nmean_B: 69.36865005840153\nmean_C: 68.42904350984494\nmean_D: 68.73809656689362\nmean_E: 69.23379915563065\n",
          "name": "stdout"
        }
      ]
    },
    {
      "metadata": {
        "trusted": true
      },
      "cell_type": "code",
      "source": "effect = [me_A]*10 + [me_B]*10 + [me_C]*10 + [me_D]*10 + [me_E]*10\neffect = np.array(effect)\neffect",
      "execution_count": 68,
      "outputs": [
        {
          "output_type": "execute_result",
          "execution_count": 68,
          "data": {
            "text/plain": "array([69.90285911, 69.90285911, 69.90285911, 69.90285911, 69.90285911,\n       69.90285911, 69.90285911, 69.90285911, 69.90285911, 69.90285911,\n       69.36865006, 69.36865006, 69.36865006, 69.36865006, 69.36865006,\n       69.36865006, 69.36865006, 69.36865006, 69.36865006, 69.36865006,\n       68.42904351, 68.42904351, 68.42904351, 68.42904351, 68.42904351,\n       68.42904351, 68.42904351, 68.42904351, 68.42904351, 68.42904351,\n       68.73809657, 68.73809657, 68.73809657, 68.73809657, 68.73809657,\n       68.73809657, 68.73809657, 68.73809657, 68.73809657, 68.73809657,\n       69.23379916, 69.23379916, 69.23379916, 69.23379916, 69.23379916,\n       69.23379916, 69.23379916, 69.23379916, 69.23379916, 69.23379916])"
          },
          "metadata": {}
        }
      ]
    },
    {
      "metadata": {
        "trusted": true
      },
      "cell_type": "code",
      "source": "#　群間の平方和を求める\nsquares_Line = sp.sum((effect - mu_all)**2)\nsquares_Line",
      "execution_count": 69,
      "outputs": [
        {
          "output_type": "execute_result",
          "execution_count": 69,
          "data": {
            "text/plain": "13.098668335875422"
          },
          "metadata": {}
        }
      ]
    },
    {
      "metadata": {
        "trusted": true
      },
      "cell_type": "code",
      "source": "#　群間の誤差を求める\nresid = data['Density'] - effect",
      "execution_count": 70,
      "outputs": []
    },
    {
      "metadata": {
        "trusted": true
      },
      "cell_type": "code",
      "source": "#　群内（=誤差）の平方和を求める \nsquares_resid = sp.sum(resid**2)\nsquares_resid",
      "execution_count": 71,
      "outputs": [
        {
          "output_type": "execute_result",
          "execution_count": 71,
          "data": {
            "text/plain": "67.40695311278058"
          },
          "metadata": {}
        }
      ]
    },
    {
      "metadata": {},
      "cell_type": "markdown",
      "source": "<H3>4-2. 群間・群内分散の計算</H3>"
    },
    {
      "metadata": {
        "trusted": true
      },
      "cell_type": "code",
      "source": " # 群間変動の自由度を変数 df_model に格納し、群内変動(誤差）の自由度を変数 df_resid に格納する\ndf_model = 5-1\ndf_resid = (len(data)-1) - (df_model)",
      "execution_count": 72,
      "outputs": []
    },
    {
      "metadata": {
        "trusted": true
      },
      "cell_type": "code",
      "source": "# 群間の平均平方（分散）を求める\nvariance_Line = squares_Line / df_model\nvariance_Line",
      "execution_count": 73,
      "outputs": [
        {
          "output_type": "execute_result",
          "execution_count": 73,
          "data": {
            "text/plain": "3.2746670839688554"
          },
          "metadata": {}
        }
      ]
    },
    {
      "metadata": {
        "trusted": true
      },
      "cell_type": "code",
      "source": "# 群内の平均平方（分散）を求める\nvariance_resid = squares_resid / df_resid\nvariance_resid",
      "execution_count": 74,
      "outputs": [
        {
          "output_type": "execute_result",
          "execution_count": 74,
          "data": {
            "text/plain": "1.497932291395124"
          },
          "metadata": {}
        }
      ]
    },
    {
      "metadata": {},
      "cell_type": "markdown",
      "source": "<H3>4-3. p値の計算</H3>"
    },
    {
      "metadata": {
        "trusted": true
      },
      "cell_type": "code",
      "source": "# F比を求める\nf_ratio_Line = variance_Line / variance_resid\nf_ratio_Line",
      "execution_count": 77,
      "outputs": [
        {
          "output_type": "execute_result",
          "execution_count": 77,
          "data": {
            "text/plain": "2.186124902160257"
          },
          "metadata": {}
        }
      ]
    },
    {
      "metadata": {
        "trusted": true
      },
      "cell_type": "code",
      "source": "# p値を求めて、表示する\n1 - sp.stats.f.cdf(x=f_ratio_Line, dfn=df_model, dfd=df_resid)",
      "execution_count": 79,
      "outputs": [
        {
          "output_type": "execute_result",
          "execution_count": 79,
          "data": {
            "text/plain": "0.08574964851206801"
          },
          "metadata": {}
        }
      ]
    },
    {
      "metadata": {},
      "cell_type": "markdown",
      "source": "<H2>5. Statsmodelsによる分散分析</H2>\n<p>実務ではStatsmodelsを使って実行していくことになります。次に、Statsmodelsのパッケージを用いて計算してみましょう。</p>"
    },
    {
      "metadata": {
        "trusted": true
      },
      "cell_type": "code",
      "source": "# 最小二乗法を使ってモデルを作成\nanova_model = smf.ols('Density ~ Line', data=data).fit()",
      "execution_count": 80,
      "outputs": []
    },
    {
      "metadata": {
        "scrolled": true,
        "trusted": true
      },
      "cell_type": "code",
      "source": "# Statsmodelsの関数で分散分析を実行し、結果を表示\nsm.stats.anova_lm(anova_model, typ=2)",
      "execution_count": 81,
      "outputs": [
        {
          "output_type": "execute_result",
          "execution_count": 81,
          "data": {
            "text/html": "<div>\n<table border=\"1\" class=\"dataframe\">\n  <thead>\n    <tr style=\"text-align: right;\">\n      <th></th>\n      <th>sum_sq</th>\n      <th>df</th>\n      <th>F</th>\n      <th>PR(&gt;F)</th>\n    </tr>\n  </thead>\n  <tbody>\n    <tr>\n      <th>Line</th>\n      <td>13.098668</td>\n      <td>4.0</td>\n      <td>2.186125</td>\n      <td>0.08575</td>\n    </tr>\n    <tr>\n      <th>Residual</th>\n      <td>67.406953</td>\n      <td>45.0</td>\n      <td>NaN</td>\n      <td>NaN</td>\n    </tr>\n  </tbody>\n</table>\n</div>",
            "text/plain": "             sum_sq    df         F   PR(>F)\nLine      13.098668   4.0  2.186125  0.08575\nResidual  67.406953  45.0       NaN      NaN"
          },
          "metadata": {}
        }
      ]
    },
    {
      "metadata": {},
      "cell_type": "markdown",
      "source": "手動で計算した場合と結果は一致しましたか？"
    },
    {
      "metadata": {},
      "cell_type": "markdown",
      "source": "<H2>6. 結果の解釈</H2>"
    },
    {
      "metadata": {
        "scrolled": true
      },
      "cell_type": "markdown",
      "source": "ラインによって、製品の濃度は「差があるとは言い切れない」と判断できる"
    },
    {
      "metadata": {},
      "cell_type": "markdown",
      "source": "*補足：有意差がみられた場合、これは化学メーカーとしては問題ですので製造ラインの詳細を確認する必要があります。*"
    },
    {
      "metadata": {
        "trusted": false
      },
      "cell_type": "code",
      "source": "",
      "execution_count": null,
      "outputs": []
    }
  ],
  "metadata": {
    "kernelspec": {
      "name": "python3",
      "display_name": "Python 3",
      "language": "python"
    },
    "language_info": {
      "mimetype": "text/x-python",
      "nbconvert_exporter": "python",
      "name": "python",
      "pygments_lexer": "ipython3",
      "version": "3.5.4",
      "file_extension": ".py",
      "codemirror_mode": {
        "version": 3,
        "name": "ipython"
      }
    }
  },
  "nbformat": 4,
  "nbformat_minor": 2
}