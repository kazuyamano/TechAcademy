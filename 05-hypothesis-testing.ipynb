{
  "cells": [
    {
      "metadata": {},
      "cell_type": "markdown",
      "source": "### 3. 仮説検定の種類\n\n#### 3.1_ 1変量データのt検定"
    },
    {
      "metadata": {
        "trusted": true
      },
      "cell_type": "code",
      "source": "import numpy as np\nimport pandas as pd\nimport scipy as sp\nfrom scipy import stats\n\nimport matplotlib as mpl\nfrom matplotlib import pyplot as plt\nimport seaborn as sns\nsns.set()\n\n%matplotlib inline",
      "execution_count": 23,
      "outputs": []
    },
    {
      "metadata": {
        "trusted": true
      },
      "cell_type": "code",
      "source": "#csvの読み込み\ndata1 = pd.read_csv('Lesson5-1.csv')",
      "execution_count": 1,
      "outputs": [
        {
          "output_type": "error",
          "ename": "NameError",
          "evalue": "name 'pd' is not defined",
          "traceback": [
            "\u001b[0;31m---------------------------------------------------------------------------\u001b[0m",
            "\u001b[0;31mNameError\u001b[0m                                 Traceback (most recent call last)",
            "\u001b[0;32m<ipython-input-1-953bc07f54a0>\u001b[0m in \u001b[0;36m<module>\u001b[0;34m\u001b[0m\n\u001b[1;32m      1\u001b[0m \u001b[0;31m#csvの読み込み\u001b[0m\u001b[0;34m\u001b[0m\u001b[0;34m\u001b[0m\u001b[0m\n\u001b[0;32m----> 2\u001b[0;31m \u001b[0mdata1\u001b[0m \u001b[0;34m=\u001b[0m \u001b[0mpd\u001b[0m\u001b[0;34m.\u001b[0m\u001b[0mread_csv\u001b[0m\u001b[0;34m(\u001b[0m\u001b[0;34m'Lesson5-1.csv'\u001b[0m\u001b[0;34m)\u001b[0m\u001b[0;34m\u001b[0m\u001b[0m\n\u001b[0m",
            "\u001b[0;31mNameError\u001b[0m: name 'pd' is not defined"
          ]
        }
      ]
    },
    {
      "metadata": {
        "trusted": true
      },
      "cell_type": "code",
      "source": "#標本平均の計算(=母平均の点推定)\nmu = sp.mean(data1)\nmu",
      "execution_count": 25,
      "outputs": [
        {
          "output_type": "execute_result",
          "execution_count": 25,
          "data": {
            "text/plain": "Length    51.820183\ndtype: float64"
          },
          "metadata": {}
        }
      ]
    },
    {
      "metadata": {
        "trusted": true
      },
      "cell_type": "code",
      "source": "#自由度(標本分散⇒不偏分散への補正。n-1の決まり)\ndf = len(data1) - 1\ndf",
      "execution_count": 26,
      "outputs": [
        {
          "output_type": "execute_result",
          "execution_count": 26,
          "data": {
            "text/plain": "29"
          },
          "metadata": {}
        }
      ]
    },
    {
      "metadata": {
        "trusted": true
      },
      "cell_type": "code",
      "source": "#標準誤差の計算\nsigma = sp.std(data1, ddof=1)\nse = sigma/sp.sqrt(len(data1))\nse\n\n#ddofはデータの個数nから引く値。\n#誤差(偏差)計算時の自由度反映。",
      "execution_count": 27,
      "outputs": [
        {
          "output_type": "execute_result",
          "execution_count": 27,
          "data": {
            "text/plain": "Length    0.562163\ndtype: float64"
          },
          "metadata": {}
        }
      ]
    },
    {
      "metadata": {},
      "cell_type": "markdown",
      "source": "この情報を元に「池の魚平均体長は50cmと等しいか」について調べてみましょう。両側検定になりますね。有意水準は5％とします。帰無仮説・対立仮説は以下の通りです。\n\n帰無仮説（H0）: 池の中の魚の平均体長は50cmである\n対立仮説（H1）: 池の中の魚の平均体長は50cmとは異なる =50cmより大きいor50cmより小さい"
    },
    {
      "metadata": {
        "trusted": true
      },
      "cell_type": "code",
      "source": "#t値の計算\nt_value = (mu-50)/se\nt_value",
      "execution_count": 28,
      "outputs": [
        {
          "output_type": "execute_result",
          "execution_count": 28,
          "data": {
            "text/plain": "Length    3.237819\ndtype: float64"
          },
          "metadata": {}
        }
      ]
    },
    {
      "metadata": {
        "trusted": true
      },
      "cell_type": "code",
      "source": "#p値の計算\nalpha = stats.t.cdf(t_value, df=df)\n(1-alpha)*2\n\n#(1-alpha)は上側信頼限界の外の面積（確率）。なので左右対称の下側分も求めるため*2する",
      "execution_count": 29,
      "outputs": [
        {
          "output_type": "execute_result",
          "execution_count": 29,
          "data": {
            "text/plain": "array([0.00301227])"
          },
          "metadata": {}
        }
      ]
    },
    {
      "metadata": {},
      "cell_type": "markdown",
      "source": "p値：帰無仮説が正しいという仮定のもとで、標本から計算した検定統計量の実現値以上の値が得られる確率。p値が有意水準より小さい時に帰無仮説を棄却する\n[参考: p値が小さいことの意味]\np値の大きさが、対立仮説を採択＝帰無仮説を棄却する決め手となります。\np値が小さいということは、『帰無仮説が正しいとすると』確率的にほとんど起こりえないことが起きたということを意味します。(有意水準が5%なら100回中5回以下、 1%なら100回中1回以下)\n逆にp値が大きいということは、確率的にはよくあることが起きた(だから、この結果では差があるとはいえない)、ということになります。"
    },
    {
      "metadata": {
        "trusted": true
      },
      "cell_type": "code",
      "source": "#尚、以上の計算はstats.ttest_1samp関数を用いると下記のように実行できます。\nstats.ttest_1samp(data1, 50)\n\n#標本データdata1をもとに、\n#帰無仮説「池の中の魚の平均体長は50cmである」を両側検定",
      "execution_count": 30,
      "outputs": [
        {
          "output_type": "execute_result",
          "execution_count": 30,
          "data": {
            "text/plain": "Ttest_1sampResult(statistic=array([3.23781919]), pvalue=array([0.00301227]))"
          },
          "metadata": {}
        }
      ]
    },
    {
      "metadata": {},
      "cell_type": "markdown",
      "source": "次に、「池の魚の平均体長は50cmより大きい」かどうかを調べてみましょう。\nこちらも有意差5％とします。今度は片側検定を実行することになります。仮説は以下の通りです。\n 帰無仮説（H0）: 池の中の魚の平均体長は50cmである\n 対立仮説（H1）: 池の中の魚の平均体長は50cmより大きい\n"
    },
    {
      "metadata": {
        "trusted": true
      },
      "cell_type": "code",
      "source": "#t値の計算までは両側検定と一緒です。片側検定では分布の片側だけに棄却域を取りました。\n#ですので、p値の計算は以下のようになります。\nalpha = stats.t.cdf(t_value, df = df)\n1-alpha",
      "execution_count": 31,
      "outputs": [
        {
          "output_type": "execute_result",
          "execution_count": 31,
          "data": {
            "text/plain": "array([0.00150613])"
          },
          "metadata": {}
        }
      ]
    },
    {
      "metadata": {
        "trusted": true
      },
      "cell_type": "markdown",
      "source": "#### 3.2_  2変量データのt検定\n\n今までは1つの池の中の魚の体長といった「1変量のデータ」について考えてきました。次は、「飼料Aで育った養殖魚と飼料Bで育った養殖魚の体長」「2歳魚と3歳魚の体長」といった2変数の間で平均値に差があるか否かについて考えてみましょう。\n\nまずは「対応のある」t検定"
    },
    {
      "metadata": {
        "trusted": true
      },
      "cell_type": "code",
      "source": "data2 = pd.read_csv('Lesson5-2.csv')",
      "execution_count": 32,
      "outputs": []
    },
    {
      "metadata": {
        "trusted": true
      },
      "cell_type": "code",
      "source": "data2.head()",
      "execution_count": 33,
      "outputs": [
        {
          "output_type": "execute_result",
          "execution_count": 33,
          "data": {
            "text/html": "<div>\n<style scoped>\n    .dataframe tbody tr th:only-of-type {\n        vertical-align: middle;\n    }\n\n    .dataframe tbody tr th {\n        vertical-align: top;\n    }\n\n    .dataframe thead th {\n        text-align: right;\n    }\n</style>\n<table border=\"1\" class=\"dataframe\">\n  <thead>\n    <tr style=\"text-align: right;\">\n      <th></th>\n      <th>2-years-old</th>\n      <th>3-years-old</th>\n    </tr>\n  </thead>\n  <tbody>\n    <tr>\n      <th>0</th>\n      <td>16.624345</td>\n      <td>14.600841</td>\n    </tr>\n    <tr>\n      <th>1</th>\n      <td>14.388244</td>\n      <td>14.984220</td>\n    </tr>\n    <tr>\n      <th>2</th>\n      <td>14.471828</td>\n      <td>14.606675</td>\n    </tr>\n    <tr>\n      <th>3</th>\n      <td>13.927031</td>\n      <td>14.401233</td>\n    </tr>\n    <tr>\n      <th>4</th>\n      <td>15.865408</td>\n      <td>14.627380</td>\n    </tr>\n  </tbody>\n</table>\n</div>",
            "text/plain": "   2-years-old  3-years-old\n0    16.624345    14.600841\n1    14.388244    14.984220\n2    14.471828    14.606675\n3    13.927031    14.401233\n4    15.865408    14.627380"
          },
          "metadata": {}
        }
      ]
    },
    {
      "metadata": {
        "trusted": true
      },
      "cell_type": "code",
      "source": "#それぞれの魚について2歳時点での体長と3歳時点での体長のデータが記入されているとします。\n#次に、この2変数の差を計算してみます。\ndata2['Difference']= data2['3-years-old']- data2['2-years-old']\ndata2.head()",
      "execution_count": 35,
      "outputs": [
        {
          "output_type": "execute_result",
          "execution_count": 35,
          "data": {
            "text/html": "<div>\n<style scoped>\n    .dataframe tbody tr th:only-of-type {\n        vertical-align: middle;\n    }\n\n    .dataframe tbody tr th {\n        vertical-align: top;\n    }\n\n    .dataframe thead th {\n        text-align: right;\n    }\n</style>\n<table border=\"1\" class=\"dataframe\">\n  <thead>\n    <tr style=\"text-align: right;\">\n      <th></th>\n      <th>2-years-old</th>\n      <th>3-years-old</th>\n      <th>Difference</th>\n    </tr>\n  </thead>\n  <tbody>\n    <tr>\n      <th>0</th>\n      <td>16.624345</td>\n      <td>14.600841</td>\n      <td>-2.023504</td>\n    </tr>\n    <tr>\n      <th>1</th>\n      <td>14.388244</td>\n      <td>14.984220</td>\n      <td>0.595977</td>\n    </tr>\n    <tr>\n      <th>2</th>\n      <td>14.471828</td>\n      <td>14.606675</td>\n      <td>0.134847</td>\n    </tr>\n    <tr>\n      <th>3</th>\n      <td>13.927031</td>\n      <td>14.401233</td>\n      <td>0.474201</td>\n    </tr>\n    <tr>\n      <th>4</th>\n      <td>15.865408</td>\n      <td>14.627380</td>\n      <td>-1.238028</td>\n    </tr>\n  </tbody>\n</table>\n</div>",
            "text/plain": "   2-years-old  3-years-old  Difference\n0    16.624345    14.600841   -2.023504\n1    14.388244    14.984220    0.595977\n2    14.471828    14.606675    0.134847\n3    13.927031    14.401233    0.474201\n4    15.865408    14.627380   -1.238028"
          },
          "metadata": {}
        }
      ]
    },
    {
      "metadata": {},
      "cell_type": "markdown",
      "source": "対応のあるt検定では「差が0と異なるか」という1変数のt検定を行うことになります。\n\n帰無仮説と対立仮説について確認しましょう。対応のあるt検定では下記の仮説を立てることになりますが、これは括弧書きのように解釈できるという意味です。\n\n  帰無仮説（H0）: 2歳魚と3歳魚で体長は変わらない（2歳魚と3歳魚の体長の差は0）  \n  対立仮説（H1）: 2歳魚と3歳魚で体長は異なる（2歳魚と3歳魚の体長の差は0ではない）"
    },
    {
      "metadata": {
        "trusted": true
      },
      "cell_type": "code",
      "source": "stats.ttest_1samp(data2['Difference'], 0)",
      "execution_count": 36,
      "outputs": [
        {
          "output_type": "execute_result",
          "execution_count": 36,
          "data": {
            "text/plain": "Ttest_1sampResult(statistic=2.212896760339997, pvalue=0.03493196300425262)"
          },
          "metadata": {}
        }
      ]
    },
    {
      "metadata": {},
      "cell_type": "markdown",
      "source": "p値が0.05を下回りましたので、「2歳魚と3歳魚の体長は有意に異なる」と判断できました"
    },
    {
      "metadata": {},
      "cell_type": "markdown",
      "source": "### 「対応のない」t検定\n\n対応のあるt検定では、それぞれの個体について2歳時点と3歳時点の2回計測を行った結果について解析しました。  \nそれでは、このデータが「2歳魚を集めたデータ」と「3歳魚を集めたデータ」ではあるものの同じ個体の2歳時と3歳時の体長を測定したものではないとするとどうなるでしょうか。今度は「平均値の差」について注目する必要があります。\n\n平均値の差に基づいてt値を計算する場合、少し計算式が複雑になります。2歳魚の体長をX、3歳魚の体長をYとすると下記のように計算できます。\n（省略）\n\n対応のないt検定はstats.ttest_ind関数を用いると簡単に計算できます\n\n[ttest_indを使う場合]  \n対応がないt検定。  \n２つの集団からの各対象から、１つずつ値を抜き出してきて、平均値の差が有意かどうかを調べる検定。  \n    res = stats.ttest_ind(group1, group2, equal_var = False)  \n2つの集団の分散が異なる場合には、equal_var = Falseオプションを付ける。"
    },
    {
      "metadata": {
        "trusted": true
      },
      "cell_type": "code",
      "source": "stats.ttest_ind(data2['2-years-old'], data2['3-years-old'], equal_var= False)",
      "execution_count": 37,
      "outputs": [
        {
          "output_type": "execute_result",
          "execution_count": 37,
          "data": {
            "text/plain": "Ttest_indResult(statistic=-2.403807649264687, pvalue=0.01945646990570736)"
          },
          "metadata": {}
        }
      ]
    },
    {
      "metadata": {
        "trusted": true
      },
      "cell_type": "code",
      "source": "",
      "execution_count": null,
      "outputs": []
    }
  ],
  "metadata": {
    "kernelspec": {
      "name": "python36",
      "display_name": "Python 3.6",
      "language": "python"
    },
    "language_info": {
      "mimetype": "text/x-python",
      "nbconvert_exporter": "python",
      "name": "python",
      "pygments_lexer": "ipython3",
      "version": "3.6.6",
      "file_extension": ".py",
      "codemirror_mode": {
        "version": 3,
        "name": "ipython"
      }
    }
  },
  "nbformat": 4,
  "nbformat_minor": 1
}